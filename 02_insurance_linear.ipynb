{
  "cells": [
    {
      "cell_type": "markdown",
      "metadata": {
        "id": "view-in-github",
        "colab_type": "text"
      },
      "source": [
        "<a href=\"https://colab.research.google.com/github/Valiev-Koyiljon/Pytorch/blob/main/02_insurance_linear.ipynb\" target=\"_parent\"><img src=\"https://colab.research.google.com/assets/colab-badge.svg\" alt=\"Open In Colab\"/></a>"
      ]
    },
    {
      "cell_type": "markdown",
      "metadata": {
        "_cell_guid": "b1076dfc-b9ad-4769-8c92-a6c4dae69d19",
        "_uuid": "8f2839f25d086af736a60e9eeb907d3b93b6e0e5",
        "id": "CRo_WX_3hKCx"
      },
      "source": [
        "# Insurance cost prediction using linear regression\n",
        "\n",
        "Make a submisson here: https://jovian.ai/learn/deep-learning-with-pytorch-zero-to-gans/assignment/assignment-2-train-your-first-model\n",
        "\n",
        "In this assignment we're going to use information like a person's age, sex, BMI, no. of children and smoking habit to predict the price of yearly medical bills. This kind of model is useful for insurance companies to determine the yearly insurance premium for a person. The dataset for this problem is taken from [Kaggle](https://www.kaggle.com/mirichoi0218/insurance).\n",
        "\n",
        "\n",
        "We will create a model with the following steps:\n",
        "1. Download and explore the dataset\n",
        "2. Prepare the dataset for training\n",
        "3. Create a linear regression model\n",
        "4. Train the model to fit the data\n",
        "5. Make predictions using the trained model\n",
        "\n",
        "\n",
        "This assignment builds upon the concepts from the first 2 lessons. It will help to review these Jupyter notebooks:\n",
        "- PyTorch basics: https://jovian.ai/aakashns/01-pytorch-basics\n",
        "- Linear Regression: https://jovian.ai/aakashns/02-linear-regression\n",
        "- Logistic Regression: https://jovian.ai/aakashns/03-logistic-regression\n",
        "- Linear regression (minimal): https://jovian.ai/aakashns/housing-linear-minimal\n",
        "- Logistic regression (minimal): https://jovian.ai/aakashns/mnist-logistic-minimal\n",
        "\n",
        "As you go through this notebook, you will find a **???** in certain places. Your job is to replace the **???** with appropriate code or values, to ensure that the notebook runs properly end-to-end . In some cases, you'll be required to choose some hyperparameters (learning rate, batch size etc.). Try to experiment with the hypeparameters to get the lowest loss.\n"
      ]
    },
    {
      "cell_type": "code",
      "execution_count": 1,
      "metadata": {
        "id": "M_CXonl6hKDI"
      },
      "outputs": [],
      "source": [
        "# Uncomment and run the appropriate command for your operating system, if required\n",
        "\n",
        "# Linux / Binder\n",
        "# !pip install numpy matplotlib pandas torch==1.7.0+cpu torchvision==0.8.1+cpu torchaudio==0.7.0 -f https://download.pytorch.org/whl/torch_stable.html\n",
        "\n",
        "# Windows\n",
        "# !pip install numpy matplotlib pandas torch==1.7.0+cpu torchvision==0.8.1+cpu torchaudio==0.7.0 -f https://download.pytorch.org/whl/torch_stable.html\n",
        "\n",
        "# MacOS\n",
        "# !pip install numpy matplotlib pandas torch torchvision torchaudio"
      ]
    },
    {
      "cell_type": "code",
      "source": [
        "!pip install jovian"
      ],
      "metadata": {
        "colab": {
          "base_uri": "https://localhost:8080/"
        },
        "id": "koBoKFnfhSy1",
        "outputId": "025e5a4a-3cc3-4f41-e4da-08ca517e9a6f"
      },
      "execution_count": 2,
      "outputs": [
        {
          "output_type": "stream",
          "name": "stdout",
          "text": [
            "Requirement already satisfied: jovian in /usr/local/lib/python3.10/dist-packages (0.2.47)\n",
            "Requirement already satisfied: requests in /usr/local/lib/python3.10/dist-packages (from jovian) (2.31.0)\n",
            "Requirement already satisfied: uuid in /usr/local/lib/python3.10/dist-packages (from jovian) (1.30)\n",
            "Requirement already satisfied: pyyaml in /usr/local/lib/python3.10/dist-packages (from jovian) (6.0.1)\n",
            "Requirement already satisfied: click in /usr/local/lib/python3.10/dist-packages (from jovian) (8.1.6)\n",
            "Requirement already satisfied: charset-normalizer<4,>=2 in /usr/local/lib/python3.10/dist-packages (from requests->jovian) (3.2.0)\n",
            "Requirement already satisfied: idna<4,>=2.5 in /usr/local/lib/python3.10/dist-packages (from requests->jovian) (3.4)\n",
            "Requirement already satisfied: urllib3<3,>=1.21.1 in /usr/local/lib/python3.10/dist-packages (from requests->jovian) (2.0.4)\n",
            "Requirement already satisfied: certifi>=2017.4.17 in /usr/local/lib/python3.10/dist-packages (from requests->jovian) (2023.7.22)\n"
          ]
        }
      ]
    },
    {
      "cell_type": "code",
      "execution_count": 279,
      "metadata": {
        "id": "73swz7_1hKDP"
      },
      "outputs": [],
      "source": [
        "import torch\n",
        "import jovian\n",
        "import torchvision\n",
        "import torch.nn as nn\n",
        "import pandas as pd\n",
        "import matplotlib.pyplot as plt\n",
        "import torch.nn.functional as F\n",
        "from torchvision.datasets.utils import download_url\n",
        "from torch.utils.data import DataLoader, TensorDataset, random_split"
      ]
    },
    {
      "cell_type": "code",
      "execution_count": 280,
      "metadata": {
        "id": "ghSLXhgUhKDR"
      },
      "outputs": [],
      "source": [
        "project_name='02-insurance-linear-regression' # will be used by jovian.commit"
      ]
    },
    {
      "cell_type": "markdown",
      "metadata": {
        "id": "eLBD4QLehKDT"
      },
      "source": [
        "## Step 1: Download and explore the data\n",
        "\n",
        "Let us begin by downloading the data. We'll use the `download_url` function from PyTorch to get the data as a CSV (comma-separated values) file."
      ]
    },
    {
      "cell_type": "code",
      "execution_count": 281,
      "metadata": {
        "_cell_guid": "79c7e3d0-c299-4dcb-8224-4455121ee9b0",
        "_uuid": "d629ff2d2480ee46fbb7e2d37f6b5fab8052498a",
        "colab": {
          "base_uri": "https://localhost:8080/"
        },
        "id": "sd_Qrb0VhKDU",
        "outputId": "42993c8e-30aa-412f-eecd-77520c1c8c9b"
      },
      "outputs": [
        {
          "output_type": "stream",
          "name": "stdout",
          "text": [
            "Using downloaded and verified file: ./insurance.csv\n"
          ]
        }
      ],
      "source": [
        "DATASET_URL = \"https://gist.github.com/BirajCoder/5f068dfe759c1ea6bdfce9535acdb72d/raw/c84d84e3c80f93be67f6c069cbdc0195ec36acbd/insurance.csv\"\n",
        "DATA_FILENAME = \"insurance.csv\"\n",
        "download_url(DATASET_URL, '.')"
      ]
    },
    {
      "cell_type": "markdown",
      "metadata": {
        "id": "i91WYjPLhKDa"
      },
      "source": [
        "To load the dataset into memory, we'll use the `read_csv` function from the `pandas` library. The data will be loaded as a Pandas dataframe. See this short tutorial to learn more: https://data36.com/pandas-tutorial-1-basics-reading-data-files-dataframes-data-selection/"
      ]
    },
    {
      "cell_type": "code",
      "execution_count": 282,
      "metadata": {
        "colab": {
          "base_uri": "https://localhost:8080/",
          "height": 206
        },
        "id": "7GoFPIibhKDd",
        "outputId": "44aab605-fe4c-4a63-e19a-48ff9c3427ab"
      },
      "outputs": [
        {
          "output_type": "execute_result",
          "data": {
            "text/plain": [
              "   age     sex     bmi  children smoker     region      charges\n",
              "0   19  female  27.900         0    yes  southwest  16884.92400\n",
              "1   18    male  33.770         1     no  southeast   1725.55230\n",
              "2   28    male  33.000         3     no  southeast   4449.46200\n",
              "3   33    male  22.705         0     no  northwest  21984.47061\n",
              "4   32    male  28.880         0     no  northwest   3866.85520"
            ],
            "text/html": [
              "\n",
              "  <div id=\"df-dfaf2d3a-8cd1-44d3-ba66-6838d5205ba2\" class=\"colab-df-container\">\n",
              "    <div>\n",
              "<style scoped>\n",
              "    .dataframe tbody tr th:only-of-type {\n",
              "        vertical-align: middle;\n",
              "    }\n",
              "\n",
              "    .dataframe tbody tr th {\n",
              "        vertical-align: top;\n",
              "    }\n",
              "\n",
              "    .dataframe thead th {\n",
              "        text-align: right;\n",
              "    }\n",
              "</style>\n",
              "<table border=\"1\" class=\"dataframe\">\n",
              "  <thead>\n",
              "    <tr style=\"text-align: right;\">\n",
              "      <th></th>\n",
              "      <th>age</th>\n",
              "      <th>sex</th>\n",
              "      <th>bmi</th>\n",
              "      <th>children</th>\n",
              "      <th>smoker</th>\n",
              "      <th>region</th>\n",
              "      <th>charges</th>\n",
              "    </tr>\n",
              "  </thead>\n",
              "  <tbody>\n",
              "    <tr>\n",
              "      <th>0</th>\n",
              "      <td>19</td>\n",
              "      <td>female</td>\n",
              "      <td>27.900</td>\n",
              "      <td>0</td>\n",
              "      <td>yes</td>\n",
              "      <td>southwest</td>\n",
              "      <td>16884.92400</td>\n",
              "    </tr>\n",
              "    <tr>\n",
              "      <th>1</th>\n",
              "      <td>18</td>\n",
              "      <td>male</td>\n",
              "      <td>33.770</td>\n",
              "      <td>1</td>\n",
              "      <td>no</td>\n",
              "      <td>southeast</td>\n",
              "      <td>1725.55230</td>\n",
              "    </tr>\n",
              "    <tr>\n",
              "      <th>2</th>\n",
              "      <td>28</td>\n",
              "      <td>male</td>\n",
              "      <td>33.000</td>\n",
              "      <td>3</td>\n",
              "      <td>no</td>\n",
              "      <td>southeast</td>\n",
              "      <td>4449.46200</td>\n",
              "    </tr>\n",
              "    <tr>\n",
              "      <th>3</th>\n",
              "      <td>33</td>\n",
              "      <td>male</td>\n",
              "      <td>22.705</td>\n",
              "      <td>0</td>\n",
              "      <td>no</td>\n",
              "      <td>northwest</td>\n",
              "      <td>21984.47061</td>\n",
              "    </tr>\n",
              "    <tr>\n",
              "      <th>4</th>\n",
              "      <td>32</td>\n",
              "      <td>male</td>\n",
              "      <td>28.880</td>\n",
              "      <td>0</td>\n",
              "      <td>no</td>\n",
              "      <td>northwest</td>\n",
              "      <td>3866.85520</td>\n",
              "    </tr>\n",
              "  </tbody>\n",
              "</table>\n",
              "</div>\n",
              "    <div class=\"colab-df-buttons\">\n",
              "\n",
              "  <div class=\"colab-df-container\">\n",
              "    <button class=\"colab-df-convert\" onclick=\"convertToInteractive('df-dfaf2d3a-8cd1-44d3-ba66-6838d5205ba2')\"\n",
              "            title=\"Convert this dataframe to an interactive table.\"\n",
              "            style=\"display:none;\">\n",
              "\n",
              "  <svg xmlns=\"http://www.w3.org/2000/svg\" height=\"24px\" viewBox=\"0 -960 960 960\">\n",
              "    <path d=\"M120-120v-720h720v720H120Zm60-500h600v-160H180v160Zm220 220h160v-160H400v160Zm0 220h160v-160H400v160ZM180-400h160v-160H180v160Zm440 0h160v-160H620v160ZM180-180h160v-160H180v160Zm440 0h160v-160H620v160Z\"/>\n",
              "  </svg>\n",
              "    </button>\n",
              "\n",
              "  <style>\n",
              "    .colab-df-container {\n",
              "      display:flex;\n",
              "      gap: 12px;\n",
              "    }\n",
              "\n",
              "    .colab-df-convert {\n",
              "      background-color: #E8F0FE;\n",
              "      border: none;\n",
              "      border-radius: 50%;\n",
              "      cursor: pointer;\n",
              "      display: none;\n",
              "      fill: #1967D2;\n",
              "      height: 32px;\n",
              "      padding: 0 0 0 0;\n",
              "      width: 32px;\n",
              "    }\n",
              "\n",
              "    .colab-df-convert:hover {\n",
              "      background-color: #E2EBFA;\n",
              "      box-shadow: 0px 1px 2px rgba(60, 64, 67, 0.3), 0px 1px 3px 1px rgba(60, 64, 67, 0.15);\n",
              "      fill: #174EA6;\n",
              "    }\n",
              "\n",
              "    .colab-df-buttons div {\n",
              "      margin-bottom: 4px;\n",
              "    }\n",
              "\n",
              "    [theme=dark] .colab-df-convert {\n",
              "      background-color: #3B4455;\n",
              "      fill: #D2E3FC;\n",
              "    }\n",
              "\n",
              "    [theme=dark] .colab-df-convert:hover {\n",
              "      background-color: #434B5C;\n",
              "      box-shadow: 0px 1px 3px 1px rgba(0, 0, 0, 0.15);\n",
              "      filter: drop-shadow(0px 1px 2px rgba(0, 0, 0, 0.3));\n",
              "      fill: #FFFFFF;\n",
              "    }\n",
              "  </style>\n",
              "\n",
              "    <script>\n",
              "      const buttonEl =\n",
              "        document.querySelector('#df-dfaf2d3a-8cd1-44d3-ba66-6838d5205ba2 button.colab-df-convert');\n",
              "      buttonEl.style.display =\n",
              "        google.colab.kernel.accessAllowed ? 'block' : 'none';\n",
              "\n",
              "      async function convertToInteractive(key) {\n",
              "        const element = document.querySelector('#df-dfaf2d3a-8cd1-44d3-ba66-6838d5205ba2');\n",
              "        const dataTable =\n",
              "          await google.colab.kernel.invokeFunction('convertToInteractive',\n",
              "                                                    [key], {});\n",
              "        if (!dataTable) return;\n",
              "\n",
              "        const docLinkHtml = 'Like what you see? Visit the ' +\n",
              "          '<a target=\"_blank\" href=https://colab.research.google.com/notebooks/data_table.ipynb>data table notebook</a>'\n",
              "          + ' to learn more about interactive tables.';\n",
              "        element.innerHTML = '';\n",
              "        dataTable['output_type'] = 'display_data';\n",
              "        await google.colab.output.renderOutput(dataTable, element);\n",
              "        const docLink = document.createElement('div');\n",
              "        docLink.innerHTML = docLinkHtml;\n",
              "        element.appendChild(docLink);\n",
              "      }\n",
              "    </script>\n",
              "  </div>\n",
              "\n",
              "\n",
              "<div id=\"df-7e3563f8-5afb-4cdb-b981-f0ff37f9755a\">\n",
              "  <button class=\"colab-df-quickchart\" onclick=\"quickchart('df-7e3563f8-5afb-4cdb-b981-f0ff37f9755a')\"\n",
              "            title=\"Suggest charts.\"\n",
              "            style=\"display:none;\">\n",
              "\n",
              "<svg xmlns=\"http://www.w3.org/2000/svg\" height=\"24px\"viewBox=\"0 0 24 24\"\n",
              "     width=\"24px\">\n",
              "    <g>\n",
              "        <path d=\"M19 3H5c-1.1 0-2 .9-2 2v14c0 1.1.9 2 2 2h14c1.1 0 2-.9 2-2V5c0-1.1-.9-2-2-2zM9 17H7v-7h2v7zm4 0h-2V7h2v10zm4 0h-2v-4h2v4z\"/>\n",
              "    </g>\n",
              "</svg>\n",
              "  </button>\n",
              "\n",
              "<style>\n",
              "  .colab-df-quickchart {\n",
              "    background-color: #E8F0FE;\n",
              "    border: none;\n",
              "    border-radius: 50%;\n",
              "    cursor: pointer;\n",
              "    display: none;\n",
              "    fill: #1967D2;\n",
              "    height: 32px;\n",
              "    padding: 0 0 0 0;\n",
              "    width: 32px;\n",
              "  }\n",
              "\n",
              "  .colab-df-quickchart:hover {\n",
              "    background-color: #E2EBFA;\n",
              "    box-shadow: 0px 1px 2px rgba(60, 64, 67, 0.3), 0px 1px 3px 1px rgba(60, 64, 67, 0.15);\n",
              "    fill: #174EA6;\n",
              "  }\n",
              "\n",
              "  [theme=dark] .colab-df-quickchart {\n",
              "    background-color: #3B4455;\n",
              "    fill: #D2E3FC;\n",
              "  }\n",
              "\n",
              "  [theme=dark] .colab-df-quickchart:hover {\n",
              "    background-color: #434B5C;\n",
              "    box-shadow: 0px 1px 3px 1px rgba(0, 0, 0, 0.15);\n",
              "    filter: drop-shadow(0px 1px 2px rgba(0, 0, 0, 0.3));\n",
              "    fill: #FFFFFF;\n",
              "  }\n",
              "</style>\n",
              "\n",
              "  <script>\n",
              "    async function quickchart(key) {\n",
              "      const charts = await google.colab.kernel.invokeFunction(\n",
              "          'suggestCharts', [key], {});\n",
              "    }\n",
              "    (() => {\n",
              "      let quickchartButtonEl =\n",
              "        document.querySelector('#df-7e3563f8-5afb-4cdb-b981-f0ff37f9755a button');\n",
              "      quickchartButtonEl.style.display =\n",
              "        google.colab.kernel.accessAllowed ? 'block' : 'none';\n",
              "    })();\n",
              "  </script>\n",
              "</div>\n",
              "    </div>\n",
              "  </div>\n"
            ]
          },
          "metadata": {},
          "execution_count": 282
        }
      ],
      "source": [
        "dataframe_raw = pd.read_csv(DATA_FILENAME)\n",
        "dataframe_raw.head()"
      ]
    },
    {
      "cell_type": "markdown",
      "metadata": {
        "id": "J5ETy8_ShKDf"
      },
      "source": [
        "We're going to do a slight customization of the data, so that you every participant receives a slightly different version of the dataset. Fill in your name below as a string (enter at least 5 characters)"
      ]
    },
    {
      "cell_type": "code",
      "execution_count": 283,
      "metadata": {
        "id": "CwBuaDCthKDh"
      },
      "outputs": [],
      "source": [
        "your_name = \"Koyiljon Valiev\""
      ]
    },
    {
      "cell_type": "markdown",
      "metadata": {
        "id": "-Pu5pr67hKDj"
      },
      "source": [
        "The `customize_dataset` function will customize the dataset slightly using your name as a source of random numbers."
      ]
    },
    {
      "cell_type": "code",
      "execution_count": 284,
      "metadata": {
        "id": "gDkAy3dxhKDk"
      },
      "outputs": [],
      "source": [
        "def customize_dataset(dataframe_raw, rand_str):\n",
        "    dataframe = dataframe_raw.copy(deep=True)\n",
        "    # drop some rows\n",
        "    dataframe = dataframe.sample(int(0.95*len(dataframe)), random_state=int(ord(rand_str[0])))\n",
        "    # scale input\n",
        "    dataframe.bmi = dataframe.bmi * ord(rand_str[1])/100.\n",
        "    # scale target\n",
        "    dataframe.charges = dataframe.charges * ord(rand_str[2])/100.\n",
        "    # drop column\n",
        "    if ord(rand_str[3]) % 2 == 1:\n",
        "        dataframe = dataframe.drop(['region'], axis=1)\n",
        "    return dataframe"
      ]
    },
    {
      "cell_type": "code",
      "execution_count": 285,
      "metadata": {
        "colab": {
          "base_uri": "https://localhost:8080/",
          "height": 206
        },
        "id": "f_Cl75wBhKDm",
        "outputId": "bba967b4-9b9c-4549-dab4-71b7bfbdce2a"
      },
      "outputs": [
        {
          "output_type": "execute_result",
          "data": {
            "text/plain": [
              "      age     sex       bmi  children smoker       charges\n",
              "1307   32    male  31.21320         4    yes  25981.699348\n",
              "654    59  female  39.07200         0     no  14815.882510\n",
              "1169   37  female  37.85655         1     no   7395.947069\n",
              "570    31  female  32.30100         0     no   4551.163320\n",
              "633    40    male  25.20255         2     no   8679.765540"
            ],
            "text/html": [
              "\n",
              "  <div id=\"df-9fd88f53-d2cb-453a-9bc6-ed0c25e0c61b\" class=\"colab-df-container\">\n",
              "    <div>\n",
              "<style scoped>\n",
              "    .dataframe tbody tr th:only-of-type {\n",
              "        vertical-align: middle;\n",
              "    }\n",
              "\n",
              "    .dataframe tbody tr th {\n",
              "        vertical-align: top;\n",
              "    }\n",
              "\n",
              "    .dataframe thead th {\n",
              "        text-align: right;\n",
              "    }\n",
              "</style>\n",
              "<table border=\"1\" class=\"dataframe\">\n",
              "  <thead>\n",
              "    <tr style=\"text-align: right;\">\n",
              "      <th></th>\n",
              "      <th>age</th>\n",
              "      <th>sex</th>\n",
              "      <th>bmi</th>\n",
              "      <th>children</th>\n",
              "      <th>smoker</th>\n",
              "      <th>charges</th>\n",
              "    </tr>\n",
              "  </thead>\n",
              "  <tbody>\n",
              "    <tr>\n",
              "      <th>1307</th>\n",
              "      <td>32</td>\n",
              "      <td>male</td>\n",
              "      <td>31.21320</td>\n",
              "      <td>4</td>\n",
              "      <td>yes</td>\n",
              "      <td>25981.699348</td>\n",
              "    </tr>\n",
              "    <tr>\n",
              "      <th>654</th>\n",
              "      <td>59</td>\n",
              "      <td>female</td>\n",
              "      <td>39.07200</td>\n",
              "      <td>0</td>\n",
              "      <td>no</td>\n",
              "      <td>14815.882510</td>\n",
              "    </tr>\n",
              "    <tr>\n",
              "      <th>1169</th>\n",
              "      <td>37</td>\n",
              "      <td>female</td>\n",
              "      <td>37.85655</td>\n",
              "      <td>1</td>\n",
              "      <td>no</td>\n",
              "      <td>7395.947069</td>\n",
              "    </tr>\n",
              "    <tr>\n",
              "      <th>570</th>\n",
              "      <td>31</td>\n",
              "      <td>female</td>\n",
              "      <td>32.30100</td>\n",
              "      <td>0</td>\n",
              "      <td>no</td>\n",
              "      <td>4551.163320</td>\n",
              "    </tr>\n",
              "    <tr>\n",
              "      <th>633</th>\n",
              "      <td>40</td>\n",
              "      <td>male</td>\n",
              "      <td>25.20255</td>\n",
              "      <td>2</td>\n",
              "      <td>no</td>\n",
              "      <td>8679.765540</td>\n",
              "    </tr>\n",
              "  </tbody>\n",
              "</table>\n",
              "</div>\n",
              "    <div class=\"colab-df-buttons\">\n",
              "\n",
              "  <div class=\"colab-df-container\">\n",
              "    <button class=\"colab-df-convert\" onclick=\"convertToInteractive('df-9fd88f53-d2cb-453a-9bc6-ed0c25e0c61b')\"\n",
              "            title=\"Convert this dataframe to an interactive table.\"\n",
              "            style=\"display:none;\">\n",
              "\n",
              "  <svg xmlns=\"http://www.w3.org/2000/svg\" height=\"24px\" viewBox=\"0 -960 960 960\">\n",
              "    <path d=\"M120-120v-720h720v720H120Zm60-500h600v-160H180v160Zm220 220h160v-160H400v160Zm0 220h160v-160H400v160ZM180-400h160v-160H180v160Zm440 0h160v-160H620v160ZM180-180h160v-160H180v160Zm440 0h160v-160H620v160Z\"/>\n",
              "  </svg>\n",
              "    </button>\n",
              "\n",
              "  <style>\n",
              "    .colab-df-container {\n",
              "      display:flex;\n",
              "      gap: 12px;\n",
              "    }\n",
              "\n",
              "    .colab-df-convert {\n",
              "      background-color: #E8F0FE;\n",
              "      border: none;\n",
              "      border-radius: 50%;\n",
              "      cursor: pointer;\n",
              "      display: none;\n",
              "      fill: #1967D2;\n",
              "      height: 32px;\n",
              "      padding: 0 0 0 0;\n",
              "      width: 32px;\n",
              "    }\n",
              "\n",
              "    .colab-df-convert:hover {\n",
              "      background-color: #E2EBFA;\n",
              "      box-shadow: 0px 1px 2px rgba(60, 64, 67, 0.3), 0px 1px 3px 1px rgba(60, 64, 67, 0.15);\n",
              "      fill: #174EA6;\n",
              "    }\n",
              "\n",
              "    .colab-df-buttons div {\n",
              "      margin-bottom: 4px;\n",
              "    }\n",
              "\n",
              "    [theme=dark] .colab-df-convert {\n",
              "      background-color: #3B4455;\n",
              "      fill: #D2E3FC;\n",
              "    }\n",
              "\n",
              "    [theme=dark] .colab-df-convert:hover {\n",
              "      background-color: #434B5C;\n",
              "      box-shadow: 0px 1px 3px 1px rgba(0, 0, 0, 0.15);\n",
              "      filter: drop-shadow(0px 1px 2px rgba(0, 0, 0, 0.3));\n",
              "      fill: #FFFFFF;\n",
              "    }\n",
              "  </style>\n",
              "\n",
              "    <script>\n",
              "      const buttonEl =\n",
              "        document.querySelector('#df-9fd88f53-d2cb-453a-9bc6-ed0c25e0c61b button.colab-df-convert');\n",
              "      buttonEl.style.display =\n",
              "        google.colab.kernel.accessAllowed ? 'block' : 'none';\n",
              "\n",
              "      async function convertToInteractive(key) {\n",
              "        const element = document.querySelector('#df-9fd88f53-d2cb-453a-9bc6-ed0c25e0c61b');\n",
              "        const dataTable =\n",
              "          await google.colab.kernel.invokeFunction('convertToInteractive',\n",
              "                                                    [key], {});\n",
              "        if (!dataTable) return;\n",
              "\n",
              "        const docLinkHtml = 'Like what you see? Visit the ' +\n",
              "          '<a target=\"_blank\" href=https://colab.research.google.com/notebooks/data_table.ipynb>data table notebook</a>'\n",
              "          + ' to learn more about interactive tables.';\n",
              "        element.innerHTML = '';\n",
              "        dataTable['output_type'] = 'display_data';\n",
              "        await google.colab.output.renderOutput(dataTable, element);\n",
              "        const docLink = document.createElement('div');\n",
              "        docLink.innerHTML = docLinkHtml;\n",
              "        element.appendChild(docLink);\n",
              "      }\n",
              "    </script>\n",
              "  </div>\n",
              "\n",
              "\n",
              "<div id=\"df-38dccebc-f4e7-4022-8f78-0dfa4c9f02eb\">\n",
              "  <button class=\"colab-df-quickchart\" onclick=\"quickchart('df-38dccebc-f4e7-4022-8f78-0dfa4c9f02eb')\"\n",
              "            title=\"Suggest charts.\"\n",
              "            style=\"display:none;\">\n",
              "\n",
              "<svg xmlns=\"http://www.w3.org/2000/svg\" height=\"24px\"viewBox=\"0 0 24 24\"\n",
              "     width=\"24px\">\n",
              "    <g>\n",
              "        <path d=\"M19 3H5c-1.1 0-2 .9-2 2v14c0 1.1.9 2 2 2h14c1.1 0 2-.9 2-2V5c0-1.1-.9-2-2-2zM9 17H7v-7h2v7zm4 0h-2V7h2v10zm4 0h-2v-4h2v4z\"/>\n",
              "    </g>\n",
              "</svg>\n",
              "  </button>\n",
              "\n",
              "<style>\n",
              "  .colab-df-quickchart {\n",
              "    background-color: #E8F0FE;\n",
              "    border: none;\n",
              "    border-radius: 50%;\n",
              "    cursor: pointer;\n",
              "    display: none;\n",
              "    fill: #1967D2;\n",
              "    height: 32px;\n",
              "    padding: 0 0 0 0;\n",
              "    width: 32px;\n",
              "  }\n",
              "\n",
              "  .colab-df-quickchart:hover {\n",
              "    background-color: #E2EBFA;\n",
              "    box-shadow: 0px 1px 2px rgba(60, 64, 67, 0.3), 0px 1px 3px 1px rgba(60, 64, 67, 0.15);\n",
              "    fill: #174EA6;\n",
              "  }\n",
              "\n",
              "  [theme=dark] .colab-df-quickchart {\n",
              "    background-color: #3B4455;\n",
              "    fill: #D2E3FC;\n",
              "  }\n",
              "\n",
              "  [theme=dark] .colab-df-quickchart:hover {\n",
              "    background-color: #434B5C;\n",
              "    box-shadow: 0px 1px 3px 1px rgba(0, 0, 0, 0.15);\n",
              "    filter: drop-shadow(0px 1px 2px rgba(0, 0, 0, 0.3));\n",
              "    fill: #FFFFFF;\n",
              "  }\n",
              "</style>\n",
              "\n",
              "  <script>\n",
              "    async function quickchart(key) {\n",
              "      const charts = await google.colab.kernel.invokeFunction(\n",
              "          'suggestCharts', [key], {});\n",
              "    }\n",
              "    (() => {\n",
              "      let quickchartButtonEl =\n",
              "        document.querySelector('#df-38dccebc-f4e7-4022-8f78-0dfa4c9f02eb button');\n",
              "      quickchartButtonEl.style.display =\n",
              "        google.colab.kernel.accessAllowed ? 'block' : 'none';\n",
              "    })();\n",
              "  </script>\n",
              "</div>\n",
              "    </div>\n",
              "  </div>\n"
            ]
          },
          "metadata": {},
          "execution_count": 285
        }
      ],
      "source": [
        "dataframe = customize_dataset(dataframe_raw, your_name)\n",
        "dataframe.head()"
      ]
    },
    {
      "cell_type": "markdown",
      "metadata": {
        "id": "wYdZKUe2hKDn"
      },
      "source": [
        "Let us answer some basic questions about the dataset.\n",
        "\n",
        "\n",
        "**Q1: How many rows does the dataset have?**"
      ]
    },
    {
      "cell_type": "code",
      "execution_count": 286,
      "metadata": {
        "colab": {
          "base_uri": "https://localhost:8080/"
        },
        "id": "3ER-TN3IhKDo",
        "outputId": "b0e1dae9-9e02-4b8f-ecca-5ec08e338a57"
      },
      "outputs": [
        {
          "output_type": "stream",
          "name": "stdout",
          "text": [
            "1271\n"
          ]
        }
      ],
      "source": [
        "num_rows = dataframe.shape[0]\n",
        "print(num_rows)"
      ]
    },
    {
      "cell_type": "markdown",
      "metadata": {
        "id": "iAqQqycZhKDp"
      },
      "source": [
        "**Q2: How many columns doe the dataset have**"
      ]
    },
    {
      "cell_type": "code",
      "execution_count": 287,
      "metadata": {
        "colab": {
          "base_uri": "https://localhost:8080/"
        },
        "id": "2GbwRkxNhKDq",
        "outputId": "2e29ef62-85ab-4d0d-cd56-0f2ba5e7ee38"
      },
      "outputs": [
        {
          "output_type": "stream",
          "name": "stdout",
          "text": [
            "6\n"
          ]
        }
      ],
      "source": [
        "num_cols = dataframe.shape[1]\n",
        "print(num_cols)"
      ]
    },
    {
      "cell_type": "markdown",
      "metadata": {
        "id": "BPVcsKEPhKDs"
      },
      "source": [
        "**Q3: What are the column titles of the input variables?**"
      ]
    },
    {
      "cell_type": "code",
      "execution_count": 288,
      "metadata": {
        "colab": {
          "base_uri": "https://localhost:8080/"
        },
        "id": "3XHdadwzhKDt",
        "outputId": "686c3aeb-a91a-4cfa-add8-dc68aeba026e"
      },
      "outputs": [
        {
          "output_type": "execute_result",
          "data": {
            "text/plain": [
              "Index(['age', 'sex', 'bmi', 'children', 'smoker'], dtype='object')"
            ]
          },
          "metadata": {},
          "execution_count": 288
        }
      ],
      "source": [
        "input_cols = dataframe[['age', 'sex', 'bmi', 'children', 'smoker']].columns\n",
        "input_cols\n"
      ]
    },
    {
      "cell_type": "markdown",
      "metadata": {
        "id": "kg4lUXQKhKDt"
      },
      "source": [
        "**Q4: Which of the input columns are non-numeric or categorial variables ?**\n",
        "\n",
        "Hint: `sex` is one of them. List the columns that are not numbers."
      ]
    },
    {
      "cell_type": "code",
      "execution_count": 289,
      "metadata": {
        "id": "2tIkUlhAhKDu"
      },
      "outputs": [],
      "source": [
        "categorical_cols = [\"sex\", \"smoker\"]"
      ]
    },
    {
      "cell_type": "markdown",
      "metadata": {
        "id": "BR_5aAJYhKDv"
      },
      "source": [
        "**Q5: What are the column titles of output/target variable(s)?**"
      ]
    },
    {
      "cell_type": "code",
      "execution_count": 290,
      "metadata": {
        "colab": {
          "base_uri": "https://localhost:8080/"
        },
        "id": "tuxgX-BmhKDv",
        "outputId": "7e1efcd0-fbdb-467f-ca14-00bcfea54f78"
      },
      "outputs": [
        {
          "output_type": "execute_result",
          "data": {
            "text/plain": [
              "['charges']"
            ]
          },
          "metadata": {},
          "execution_count": 290
        }
      ],
      "source": [
        "output_cols = [\"charges\"]\n",
        "output_cols"
      ]
    },
    {
      "cell_type": "markdown",
      "metadata": {
        "id": "SLxZC3KDhKDw"
      },
      "source": [
        "**Q: (Optional) What is the minimum, maximum and average value of the `charges` column? Can you show the distribution of values in a graph?**\n",
        "Use this data visualization cheatsheet for referece: https://jovian.ai/aakashns/dataviz-cheatsheet"
      ]
    },
    {
      "cell_type": "code",
      "execution_count": 291,
      "metadata": {
        "colab": {
          "base_uri": "https://localhost:8080/"
        },
        "id": "pIH4-nLThKDx",
        "outputId": "2de1dda8-41af-44e9-d10d-eb730b221051"
      },
      "outputs": [
        {
          "output_type": "execute_result",
          "data": {
            "text/plain": [
              "charges    1357.467419\n",
              "dtype: float64"
            ]
          },
          "metadata": {},
          "execution_count": 291
        }
      ],
      "source": [
        "output_cols_min  = dataframe[output_cols].min()\n",
        "output_cols_min"
      ]
    },
    {
      "cell_type": "code",
      "source": [
        "output_cols_max  = dataframe[output_cols].max()\n",
        "output_cols_max"
      ],
      "metadata": {
        "colab": {
          "base_uri": "https://localhost:8080/"
        },
        "id": "UYrfbVaDkQ_u",
        "outputId": "f3126cd1-ea54-415e-a737-4836f31f52ae"
      },
      "execution_count": 292,
      "outputs": [
        {
          "output_type": "execute_result",
          "data": {
            "text/plain": [
              "charges    77162.217892\n",
              "dtype: float64"
            ]
          },
          "metadata": {},
          "execution_count": 292
        }
      ]
    },
    {
      "cell_type": "code",
      "source": [
        "output_cols_aver  = dataframe[output_cols].mean()\n",
        "output_cols_aver"
      ],
      "metadata": {
        "colab": {
          "base_uri": "https://localhost:8080/"
        },
        "id": "TRLOGeNK_1sr",
        "outputId": "32125f7f-66b2-4efe-bb8b-944bc7b44432"
      },
      "execution_count": 293,
      "outputs": [
        {
          "output_type": "execute_result",
          "data": {
            "text/plain": [
              "charges    16142.696816\n",
              "dtype: float64"
            ]
          },
          "metadata": {},
          "execution_count": 293
        }
      ]
    },
    {
      "cell_type": "markdown",
      "metadata": {
        "id": "vY4t6RHYhKDx"
      },
      "source": [
        "Remember to commit your notebook to Jovian after every step, so that you don't lose your work."
      ]
    },
    {
      "cell_type": "code",
      "execution_count": 294,
      "metadata": {
        "id": "SgkwrAzThKDy"
      },
      "outputs": [],
      "source": [
        "!pip install jovian --upgrade -q"
      ]
    },
    {
      "cell_type": "code",
      "execution_count": 295,
      "metadata": {
        "id": "edrJ2VD4hKDz"
      },
      "outputs": [],
      "source": [
        "import jovian"
      ]
    },
    {
      "cell_type": "code",
      "execution_count": 296,
      "metadata": {
        "colab": {
          "base_uri": "https://localhost:8080/"
        },
        "id": "oDAcxW9VhKDz",
        "outputId": "182f846f-c9b5-4f27-c80a-807f2d811e28"
      },
      "outputs": [
        {
          "output_type": "stream",
          "name": "stdout",
          "text": [
            "[jovian] Detected Colab notebook...\u001b[0m\n",
            "[jovian] jovian.commit() is no longer required on Google Colab. If you ran this notebook from Jovian, \n",
            "then just save this file in Colab using Ctrl+S/Cmd+S and it will be updated on Jovian. \n",
            "Also, you can also delete this cell, it's no longer necessary.\u001b[0m\n"
          ]
        }
      ],
      "source": [
        "jovian.commit()"
      ]
    },
    {
      "cell_type": "markdown",
      "metadata": {
        "id": "hBg0EPiBhKD0"
      },
      "source": [
        "## Step 2: Prepare the dataset for training\n",
        "\n",
        "We need to convert the data from the Pandas dataframe into a PyTorch tensors for training. To do this, the first step is to convert it numpy arrays. If you've filled out `input_cols`, `categorial_cols` and `output_cols` correctly, this following function will perform the conversion to numpy arrays."
      ]
    },
    {
      "cell_type": "code",
      "execution_count": 297,
      "metadata": {
        "id": "J02oQT4AhKD1"
      },
      "outputs": [],
      "source": [
        "def dataframe_to_arrays(dataframe):\n",
        "    # Make a copy of the original dataframe\n",
        "    dataframe1 = dataframe.copy(deep=True)\n",
        "    # Convert non-numeric categorical columns to numbers\n",
        "    for col in categorical_cols:\n",
        "        dataframe1[col] = dataframe1[col].astype('category').cat.codes\n",
        "    # Extract input & outupts as numpy arrays\n",
        "    inputs_array = dataframe1[input_cols].to_numpy()\n",
        "    targets_array = dataframe1[output_cols].to_numpy()\n",
        "    return inputs_array, targets_array"
      ]
    },
    {
      "cell_type": "markdown",
      "metadata": {
        "id": "9_eMDGCIhKD2"
      },
      "source": [
        "Read through the [Pandas documentation](https://pandas.pydata.org/pandas-docs/stable/user_guide/categorical.html) to understand how we're converting categorical variables into numbers."
      ]
    },
    {
      "cell_type": "code",
      "execution_count": 298,
      "metadata": {
        "colab": {
          "base_uri": "https://localhost:8080/"
        },
        "id": "Ny7pUFGLhKD3",
        "outputId": "08a6f949-e7a0-40a1-8785-004549be6b88"
      },
      "outputs": [
        {
          "output_type": "execute_result",
          "data": {
            "text/plain": [
              "(array([[32.     ,  1.     , 31.2132 ,  4.     ,  1.     ],\n",
              "        [59.     ,  0.     , 39.072  ,  0.     ,  0.     ],\n",
              "        [37.     ,  0.     , 37.85655,  1.     ,  0.     ],\n",
              "        ...,\n",
              "        [57.     ,  0.     , 22.311  ,  1.     ,  0.     ],\n",
              "        [23.     ,  1.     , 38.184  ,  0.     ,  0.     ],\n",
              "        [57.     ,  0.     , 26.6178 ,  1.     ,  0.     ]]),\n",
              " array([[25981.699348 ],\n",
              "        [14815.88251  ],\n",
              "        [ 7395.9470695],\n",
              "        ...,\n",
              "        [14559.11446  ],\n",
              "        [ 2210.48003  ],\n",
              "        [26852.8489031]]))"
            ]
          },
          "metadata": {},
          "execution_count": 298
        }
      ],
      "source": [
        "inputs_array, targets_array = dataframe_to_arrays(dataframe)\n",
        "inputs_array, targets_array"
      ]
    },
    {
      "cell_type": "code",
      "source": [
        "import numpy as np\n",
        "np.isnan(targets_array).sum() # no null value"
      ],
      "metadata": {
        "colab": {
          "base_uri": "https://localhost:8080/"
        },
        "id": "CC_-DiVP6TY4",
        "outputId": "90964c85-1022-4138-c3d2-a2f7114e736b"
      },
      "execution_count": 299,
      "outputs": [
        {
          "output_type": "execute_result",
          "data": {
            "text/plain": [
              "0"
            ]
          },
          "metadata": {},
          "execution_count": 299
        }
      ]
    },
    {
      "cell_type": "markdown",
      "metadata": {
        "id": "S2ryyoTahKD4"
      },
      "source": [
        "**Q6: Convert the numpy arrays `inputs_array` and `targets_array` into PyTorch tensors. Make sure that the data type is `torch.float32`.**"
      ]
    },
    {
      "cell_type": "code",
      "execution_count": 300,
      "metadata": {
        "id": "K1vqmX7shKD4"
      },
      "outputs": [],
      "source": [
        "inputs = torch.tensor(inputs_array, dtype=torch.float32)\n",
        "targets = torch.tensor(targets_array, dtype=torch.float32)"
      ]
    },
    {
      "cell_type": "code",
      "execution_count": 301,
      "metadata": {
        "colab": {
          "base_uri": "https://localhost:8080/"
        },
        "id": "pCRbM_nBhKD5",
        "outputId": "2c05a09a-6c8c-44d6-ae35-cab5cb54e5a7"
      },
      "outputs": [
        {
          "output_type": "execute_result",
          "data": {
            "text/plain": [
              "(torch.float32, torch.float32)"
            ]
          },
          "metadata": {},
          "execution_count": 301
        }
      ],
      "source": [
        "inputs.dtype, targets.dtype"
      ]
    },
    {
      "cell_type": "markdown",
      "metadata": {
        "id": "8nmvGhbAhKD6"
      },
      "source": [
        "Next, we need to create PyTorch datasets & data loaders for training & validation. We'll start by creating a `TensorDataset`."
      ]
    },
    {
      "cell_type": "code",
      "execution_count": 302,
      "metadata": {
        "id": "VeGVCRofhKD6"
      },
      "outputs": [],
      "source": [
        "dataset = TensorDataset(inputs, targets)"
      ]
    },
    {
      "cell_type": "markdown",
      "metadata": {
        "id": "YFSDRFUOhKD7"
      },
      "source": [
        "**Q7: Pick a number between `0.1` and `0.2` to determine the fraction of data that will be used for creating the validation set. Then use `random_split` to create training & validation datasets.**"
      ]
    },
    {
      "cell_type": "code",
      "execution_count": 303,
      "metadata": {
        "id": "x7a2J9zNhKEI"
      },
      "outputs": [],
      "source": [
        "val_percent = 0.2\n",
        "val_size = int(num_rows * val_percent)\n",
        "train_size = num_rows - val_size\n",
        "\n",
        "\n",
        "train_ds, val_ds = random_split(dataset, [train_size, val_size])\n",
        " # Use the random_split function to split dataset into 2 parts of the desired length"
      ]
    },
    {
      "cell_type": "markdown",
      "metadata": {
        "id": "e9j_3cXIhKEJ"
      },
      "source": [
        "Finally, we can create data loaders for training & validation.\n",
        "\n",
        "**Q8: Pick a batch size for the data loader.**"
      ]
    },
    {
      "cell_type": "code",
      "execution_count": 304,
      "metadata": {
        "id": "SEIUjnCDhKEK"
      },
      "outputs": [],
      "source": [
        "batch_size = 64"
      ]
    },
    {
      "cell_type": "code",
      "execution_count": 305,
      "metadata": {
        "id": "ZSSZvJLthKEK"
      },
      "outputs": [],
      "source": [
        "train_loader = DataLoader(train_ds, batch_size, shuffle=True)\n",
        "val_loader = DataLoader(val_ds, batch_size)"
      ]
    },
    {
      "cell_type": "markdown",
      "metadata": {
        "id": "RPrkTV95hKEL"
      },
      "source": [
        "Let's look at a batch of data to verify everything is working fine so far."
      ]
    },
    {
      "cell_type": "code",
      "execution_count": 306,
      "metadata": {
        "colab": {
          "base_uri": "https://localhost:8080/"
        },
        "id": "fCdr3BdHhKEM",
        "outputId": "697e407f-8d13-470b-b0d9-6851854ccc06"
      },
      "outputs": [
        {
          "output_type": "stream",
          "name": "stdout",
          "text": [
            "inputs: tensor([[35.0000,  0.0000, 39.8046,  2.0000,  0.0000],\n",
            "        [18.0000,  1.0000, 39.0720,  1.0000,  0.0000],\n",
            "        [41.0000,  1.0000, 26.5734,  1.0000,  0.0000],\n",
            "        [21.0000,  1.0000, 28.5770,  2.0000,  0.0000],\n",
            "        [40.0000,  1.0000, 36.3802,  1.0000,  1.0000],\n",
            "        [31.0000,  1.0000, 31.7404,  1.0000,  0.0000],\n",
            "        [42.0000,  1.0000, 34.6931,  0.0000,  0.0000],\n",
            "        [33.0000,  1.0000, 27.5224,  0.0000,  1.0000],\n",
            "        [47.0000,  1.0000, 40.0488,  1.0000,  1.0000],\n",
            "        [33.0000,  1.0000, 39.6825,  2.0000,  0.0000],\n",
            "        [22.0000,  0.0000, 26.9730,  0.0000,  0.0000],\n",
            "        [25.0000,  1.0000, 29.6315,  4.0000,  0.0000],\n",
            "        [51.0000,  0.0000, 45.1326,  0.0000,  0.0000],\n",
            "        [28.0000,  0.0000, 32.0568,  1.0000,  0.0000],\n",
            "        [28.0000,  0.0000, 29.4261,  2.0000,  0.0000],\n",
            "        [39.0000,  0.0000, 26.8897,  5.0000,  0.0000],\n",
            "        [44.0000,  0.0000, 43.2345,  0.0000,  1.0000],\n",
            "        [51.0000,  1.0000, 24.8862,  0.0000,  0.0000],\n",
            "        [61.0000,  0.0000, 27.8388,  0.0000,  0.0000],\n",
            "        [27.0000,  1.0000, 25.6410,  0.0000,  0.0000],\n",
            "        [64.0000,  1.0000, 37.6068,  0.0000,  1.0000],\n",
            "        [30.0000,  0.0000, 31.5296,  1.0000,  0.0000],\n",
            "        [41.0000,  1.0000, 31.9680,  1.0000,  0.0000],\n",
            "        [31.0000,  1.0000, 30.6859,  2.0000,  0.0000],\n",
            "        [19.0000,  0.0000, 32.0790,  0.0000,  0.0000],\n",
            "        [59.0000,  1.0000, 45.6654,  1.0000,  1.0000],\n",
            "        [26.0000,  0.0000, 47.0640,  1.0000,  0.0000],\n",
            "        [35.0000,  1.0000, 30.7914,  2.0000,  1.0000],\n",
            "        [18.0000,  1.0000, 26.3625,  0.0000,  0.0000],\n",
            "        [34.0000,  0.0000, 29.3151,  1.0000,  0.0000],\n",
            "        [41.0000,  0.0000, 36.1860,  3.0000,  0.0000],\n",
            "        [19.0000,  1.0000, 22.6717,  0.0000,  0.0000],\n",
            "        [40.0000,  1.0000, 25.2026,  2.0000,  0.0000],\n",
            "        [26.0000,  1.0000, 32.3565,  1.0000,  0.0000],\n",
            "        [27.0000,  1.0000, 32.3565,  0.0000,  1.0000],\n",
            "        [45.0000,  1.0000, 30.5250,  3.0000,  0.0000],\n",
            "        [52.0000,  0.0000, 34.1658,  1.0000,  0.0000],\n",
            "        [37.0000,  0.0000, 28.3661,  1.0000,  1.0000],\n",
            "        [49.0000,  0.0000, 38.5947,  1.0000,  0.0000],\n",
            "        [24.0000,  0.0000, 37.0130,  0.0000,  0.0000],\n",
            "        [52.0000,  0.0000, 36.9630,  2.0000,  0.0000],\n",
            "        [25.0000,  0.0000, 37.7289,  1.0000,  0.0000],\n",
            "        [18.0000,  1.0000, 25.6243,  0.0000,  0.0000],\n",
            "        [18.0000,  0.0000, 27.8388,  0.0000,  0.0000],\n",
            "        [19.0000,  0.0000, 25.9740,  2.0000,  0.0000],\n",
            "        [35.0000,  1.0000, 38.5947,  2.0000,  0.0000],\n",
            "        [18.0000,  1.0000, 36.9963,  0.0000,  0.0000],\n",
            "        [59.0000,  0.0000, 26.2570,  0.0000,  1.0000],\n",
            "        [37.0000,  1.0000, 33.1113,  2.0000,  0.0000],\n",
            "        [28.0000,  0.0000, 36.7521,  0.0000,  0.0000],\n",
            "        [44.0000,  1.0000, 33.5220,  2.0000,  1.0000],\n",
            "        [55.0000,  0.0000, 33.4554,  2.0000,  0.0000],\n",
            "        [19.0000,  1.0000, 31.8570,  0.0000,  0.0000],\n",
            "        [44.0000,  0.0000, 30.6859,  0.0000,  0.0000],\n",
            "        [62.0000,  1.0000, 43.1013,  0.0000,  0.0000],\n",
            "        [26.0000,  0.0000, 33.2112,  1.0000,  0.0000],\n",
            "        [53.0000,  0.0000, 27.5224,  1.0000,  0.0000],\n",
            "        [51.0000,  1.0000, 44.0670,  1.0000,  0.0000],\n",
            "        [36.0000,  0.0000, 24.5699,  3.0000,  0.0000],\n",
            "        [47.0000,  1.0000, 21.7227,  1.0000,  0.0000],\n",
            "        [41.0000,  0.0000, 35.0760,  0.0000,  0.0000],\n",
            "        [52.0000,  0.0000, 41.6527,  2.0000,  0.0000],\n",
            "        [64.0000,  0.0000, 29.8424,  0.0000,  1.0000],\n",
            "        [24.0000,  1.0000, 32.5230,  0.0000,  0.0000]])\n",
            "targets: tensor([[ 7062.1895],\n",
            "        [ 2090.3235],\n",
            "        [ 8298.7607],\n",
            "        [ 3968.6409],\n",
            "        [47341.6523],\n",
            "        [ 5134.7441],\n",
            "        [ 7694.1196],\n",
            "        [21664.4785],\n",
            "        [51075.4766],\n",
            "        [ 5916.8994],\n",
            "        [ 2602.0674],\n",
            "        [ 5902.3569],\n",
            "        [11949.5732],\n",
            "        [ 5248.6597],\n",
            "        [ 5251.9336],\n",
            "        [10848.6133],\n",
            "        [52009.9844],\n",
            "        [11327.2051],\n",
            "        [29660.8398],\n",
            "        [ 3005.3206],\n",
            "        [56736.0078],\n",
            "        [ 5477.8916],\n",
            "        [ 7601.5044],\n",
            "        [ 6087.8359],\n",
            "        [ 2109.2888],\n",
            "        [59254.0000],\n",
            "        [ 4126.4922],\n",
            "        [25390.7539],\n",
            "        [ 2063.8057],\n",
            "        [ 6516.2588],\n",
            "        [ 9624.9658],\n",
            "        [ 1966.7748],\n",
            "        [ 8679.7656],\n",
            "        [ 3512.5168],\n",
            "        [22078.2598],\n",
            "        [10424.5127],\n",
            "        [13064.7764],\n",
            "        [24559.2051],\n",
            "        [11596.5107],\n",
            "        [ 3455.0793],\n",
            "        [13076.2754],\n",
            "        [ 3904.8167],\n",
            "        [ 2062.6873],\n",
            "        [ 2657.7327],\n",
            "        [ 3525.4185],\n",
            "        [ 6932.0962],\n",
            "        [ 1374.4883],\n",
            "        [31071.3223],\n",
            "        [ 7751.7568],\n",
            "        [ 3837.6541],\n",
            "        [47188.2422],\n",
            "        [14377.1836],\n",
            "        [ 1517.2626],\n",
            "        [ 8979.6455],\n",
            "        [15707.4287],\n",
            "        [ 4105.5020],\n",
            "        [13239.9795],\n",
            "        [11363.5283],\n",
            "        [ 8746.1406],\n",
            "        [10197.9639],\n",
            "        [ 7485.2139],\n",
            "        [40501.0859],\n",
            "        [35490.4883],\n",
            "        [ 2393.1562]])\n"
          ]
        }
      ],
      "source": [
        "for xb, yb in train_loader:\n",
        "    print(\"inputs:\", xb)\n",
        "    print(\"targets:\", yb)\n",
        "    break"
      ]
    },
    {
      "cell_type": "markdown",
      "metadata": {
        "id": "Mi7XFshlhKEN"
      },
      "source": [
        "Let's save our work by committing to Jovian."
      ]
    },
    {
      "cell_type": "code",
      "execution_count": 307,
      "metadata": {
        "colab": {
          "base_uri": "https://localhost:8080/"
        },
        "id": "qon26AFohKEO",
        "outputId": "cd0a97e6-1c6b-4bcd-90b2-a70fcc3ca77d"
      },
      "outputs": [
        {
          "output_type": "stream",
          "name": "stdout",
          "text": [
            "[jovian] Detected Colab notebook...\u001b[0m\n",
            "[jovian] jovian.commit() is no longer required on Google Colab. If you ran this notebook from Jovian, \n",
            "then just save this file in Colab using Ctrl+S/Cmd+S and it will be updated on Jovian. \n",
            "Also, you can also delete this cell, it's no longer necessary.\u001b[0m\n"
          ]
        }
      ],
      "source": [
        "jovian.commit(project=project_name, environment=None)"
      ]
    },
    {
      "cell_type": "markdown",
      "metadata": {
        "id": "KTKdt9X-hKEP"
      },
      "source": [
        "## Step 3: Create a Linear Regression Model\n",
        "\n",
        "Our model itself is a fairly straightforward linear regression (we'll build more complex models in the next assignment).\n"
      ]
    },
    {
      "cell_type": "code",
      "execution_count": 308,
      "metadata": {
        "id": "qH-lkrKGhKEQ"
      },
      "outputs": [],
      "source": [
        "input_size = len(input_cols)\n",
        "output_size = len(output_cols)"
      ]
    },
    {
      "cell_type": "markdown",
      "metadata": {
        "id": "3Fp5CL63hKER"
      },
      "source": [
        "**Q9: Complete the class definition below by filling out the constructor (`__init__`), `forward`, `training_step` and `validation_step` methods.**\n",
        "\n",
        "Hint: Think carefully about picking a good loss fuction (it's not cross entropy). Maybe try 2-3 of them and see which one works best. See https://pytorch.org/docs/stable/nn.functional.html#loss-functions"
      ]
    },
    {
      "cell_type": "code",
      "execution_count": 309,
      "metadata": {
        "id": "2mE9ItzZhKER"
      },
      "outputs": [],
      "source": [
        "class InsuranceModel(nn.Module):\n",
        "    def __init__(self):\n",
        "        super().__init__()\n",
        "        self.linear = nn.Linear(input_size, output_size)  # fill this (hint: use input_size & output_size defined above)\n",
        "\n",
        "    def forward(self, xb):\n",
        "        out = self.linear(xb)                          # fill this\n",
        "        return out\n",
        "\n",
        "    def training_step(self, batch):\n",
        "        inputs, targets = batch\n",
        "        # Generate predictions\n",
        "        out = self(inputs)\n",
        "        # Calcuate loss\n",
        "        loss = F.mse_loss(out, targets)                   # fill this\n",
        "        return loss\n",
        "\n",
        "    def validation_step(self, batch):\n",
        "        inputs, targets = batch\n",
        "        # Generate predictions\n",
        "        out = self(inputs)\n",
        "        # Calculate loss\n",
        "        loss = F.mse_loss(out, targets)\n",
        "        return {'val_loss': loss.detach()}\n",
        "\n",
        "    def validation_epoch_end(self, outputs):\n",
        "        batch_losses = [x['val_loss'] for x in outputs]\n",
        "        epoch_loss = torch.stack(batch_losses).mean()   # Combine losses\n",
        "        return {'val_loss': epoch_loss.item()}\n",
        "\n",
        "    def epoch_end(self, epoch, result, num_epochs):\n",
        "        # Print result every 20th epoch\n",
        "        if (epoch+1) % 20 == 0 or epoch == num_epochs-1:\n",
        "            print(\"Epoch [{}], val_loss: {:.4f}\".format(epoch+1, result['val_loss']))"
      ]
    },
    {
      "cell_type": "markdown",
      "metadata": {
        "id": "cOIO_a6thKES"
      },
      "source": [
        "Let us create a model using the `InsuranceModel` class. You may need to come back later and re-run the next cell to reinitialize the model, in case the loss becomes `nan` or `infinity`."
      ]
    },
    {
      "cell_type": "code",
      "execution_count": 310,
      "metadata": {
        "id": "jVzEhNGDhKET"
      },
      "outputs": [],
      "source": [
        "model = InsuranceModel()"
      ]
    },
    {
      "cell_type": "markdown",
      "metadata": {
        "id": "6bncqt6ChKEU"
      },
      "source": [
        "Let's check out the weights and biases of the model using `model.parameters`."
      ]
    },
    {
      "cell_type": "code",
      "execution_count": 311,
      "metadata": {
        "colab": {
          "base_uri": "https://localhost:8080/"
        },
        "id": "NJhLw1xYhKEV",
        "outputId": "36abc4e0-26b3-4d39-fa12-93a31f55f7cd"
      },
      "outputs": [
        {
          "output_type": "execute_result",
          "data": {
            "text/plain": [
              "[Parameter containing:\n",
              " tensor([[-0.2868,  0.0502,  0.2633, -0.1826, -0.1674]], requires_grad=True),\n",
              " Parameter containing:\n",
              " tensor([0.2324], requires_grad=True)]"
            ]
          },
          "metadata": {},
          "execution_count": 311
        }
      ],
      "source": [
        "list(model.parameters())"
      ]
    },
    {
      "cell_type": "markdown",
      "metadata": {
        "id": "RMoA9im3hKEW"
      },
      "source": [
        "One final commit before we train the model."
      ]
    },
    {
      "cell_type": "code",
      "execution_count": 312,
      "metadata": {
        "colab": {
          "base_uri": "https://localhost:8080/"
        },
        "id": "ScaJBtoXhKEY",
        "outputId": "bfbf5238-5e41-49a1-adcf-3c0c2e31d696"
      },
      "outputs": [
        {
          "output_type": "stream",
          "name": "stdout",
          "text": [
            "[jovian] Detected Colab notebook...\u001b[0m\n",
            "[jovian] jovian.commit() is no longer required on Google Colab. If you ran this notebook from Jovian, \n",
            "then just save this file in Colab using Ctrl+S/Cmd+S and it will be updated on Jovian. \n",
            "Also, you can also delete this cell, it's no longer necessary.\u001b[0m\n"
          ]
        }
      ],
      "source": [
        "jovian.commit(project=project_name, environment=None)"
      ]
    },
    {
      "cell_type": "markdown",
      "metadata": {
        "id": "z4C0aQeihKEY"
      },
      "source": [
        "## Step 4: Train the model to fit the data\n",
        "\n",
        "To train our model, we'll use the same `fit` function explained in the lecture. That's the benefit of defining a generic training loop - you can use it for any problem."
      ]
    },
    {
      "cell_type": "code",
      "execution_count": 313,
      "metadata": {
        "id": "9e0FSzeAhKEZ"
      },
      "outputs": [],
      "source": [
        "def evaluate(model, val_loader):\n",
        "    outputs = [model.validation_step(batch) for batch in val_loader]\n",
        "    return model.validation_epoch_end(outputs)\n",
        "\n",
        "def fit(epochs, lr, model, train_loader, val_loader, opt_func=torch.optim.SGD):\n",
        "    history = []\n",
        "    optimizer = opt_func(model.parameters(), lr)\n",
        "    for epoch in range(epochs):\n",
        "        # Training Phase\n",
        "        for batch in train_loader:\n",
        "            loss = model.training_step(batch)\n",
        "            loss.backward()\n",
        "            optimizer.step()\n",
        "            optimizer.zero_grad()\n",
        "        # Validation phase\n",
        "        result = evaluate(model, val_loader)\n",
        "        model.epoch_end(epoch, result, epochs)\n",
        "        history.append(result)\n",
        "    return history"
      ]
    },
    {
      "cell_type": "markdown",
      "metadata": {
        "id": "s0A-D6pthKEa"
      },
      "source": [
        "**Q10: Use the `evaluate` function to calculate the loss on the validation set before training.**"
      ]
    },
    {
      "cell_type": "code",
      "execution_count": 314,
      "metadata": {
        "colab": {
          "base_uri": "https://localhost:8080/"
        },
        "id": "TMI4NBKnhKEb",
        "outputId": "8ab61b22-a6a7-4793-e774-8664451ecbe0"
      },
      "outputs": [
        {
          "output_type": "stream",
          "name": "stdout",
          "text": [
            "{'val_loss': 504676288.0}\n"
          ]
        }
      ],
      "source": [
        "# model = InsuranceModel()\n",
        "\n",
        "result = evaluate(model, val_loader)  # Use the evaluate function\n",
        "print(result)\n"
      ]
    },
    {
      "cell_type": "markdown",
      "metadata": {
        "id": "nX6K8AwZhKEc"
      },
      "source": [
        "\n",
        "We are now ready to train the model. You may need to run the training loop many times, for different number of epochs and with different learning rates, to get a good result. Also, if your loss becomes too large (or `nan`), you may have to re-initialize the model by running the cell `model = InsuranceModel()`. Experiment with this for a while, and try to get to as low a loss as possible."
      ]
    },
    {
      "cell_type": "markdown",
      "metadata": {
        "id": "RRGVGtdshKEd"
      },
      "source": [
        "**Q11: Train the model 4-5 times with different learning rates & for different number of epochs.**\n",
        "\n",
        "Hint: Vary learning rates by orders of 10 (e.g. `1e-2`, `1e-3`, `1e-4`, `1e-5`, `1e-6`) to figure out what works."
      ]
    },
    {
      "cell_type": "code",
      "execution_count": 315,
      "metadata": {
        "colab": {
          "base_uri": "https://localhost:8080/"
        },
        "id": "13Rx6LePhKEf",
        "outputId": "515aca8b-2c0e-49e7-c04a-80cca995db77"
      },
      "outputs": [
        {
          "output_type": "stream",
          "name": "stdout",
          "text": [
            "Epoch [10], val_loss: nan\n"
          ]
        }
      ],
      "source": [
        "epochs = 10\n",
        "lr = 1e-2\n",
        "history1 = fit(epochs, lr, model, train_loader, val_loader)"
      ]
    },
    {
      "cell_type": "code",
      "execution_count": 316,
      "metadata": {
        "colab": {
          "base_uri": "https://localhost:8080/"
        },
        "id": "YWk0uC2XhKEh",
        "outputId": "f6fd82ef-50cd-4ee7-f033-e00a9e3f5543"
      },
      "outputs": [
        {
          "output_type": "stream",
          "name": "stdout",
          "text": [
            "Epoch [20], val_loss: nan\n",
            "Epoch [40], val_loss: nan\n",
            "Epoch [60], val_loss: nan\n",
            "Epoch [80], val_loss: nan\n",
            "Epoch [100], val_loss: nan\n"
          ]
        }
      ],
      "source": [
        "model = InsuranceModel()\n",
        "\n",
        "epochs = 100\n",
        "lr = 1e-3\n",
        "history2 = fit(epochs, lr, model, train_loader, val_loader)"
      ]
    },
    {
      "cell_type": "code",
      "source": [
        "model = InsuranceModel()\n",
        "\n",
        "epochs = 1000\n",
        "lr = 1e-5\n",
        "history4 = fit(epochs, lr, model, train_loader, val_loader)"
      ],
      "metadata": {
        "colab": {
          "base_uri": "https://localhost:8080/"
        },
        "id": "WvtnK2H5C4X5",
        "outputId": "2a3c9337-a99c-442a-c05c-c32e6982b395"
      },
      "execution_count": 317,
      "outputs": [
        {
          "output_type": "stream",
          "name": "stdout",
          "text": [
            "Epoch [20], val_loss: 199505312.0000\n",
            "Epoch [40], val_loss: 199443840.0000\n",
            "Epoch [60], val_loss: 199123616.0000\n",
            "Epoch [80], val_loss: 199025328.0000\n",
            "Epoch [100], val_loss: 198577296.0000\n",
            "Epoch [120], val_loss: 198061664.0000\n",
            "Epoch [140], val_loss: 197851696.0000\n",
            "Epoch [160], val_loss: 197785440.0000\n",
            "Epoch [180], val_loss: 197274592.0000\n",
            "Epoch [200], val_loss: 196959808.0000\n",
            "Epoch [220], val_loss: 196907136.0000\n",
            "Epoch [240], val_loss: 196302656.0000\n",
            "Epoch [260], val_loss: 196175520.0000\n",
            "Epoch [280], val_loss: 195861904.0000\n",
            "Epoch [300], val_loss: 195481792.0000\n",
            "Epoch [320], val_loss: 195360992.0000\n",
            "Epoch [340], val_loss: 194910944.0000\n",
            "Epoch [360], val_loss: 194481504.0000\n",
            "Epoch [380], val_loss: 194400864.0000\n",
            "Epoch [400], val_loss: 194005872.0000\n",
            "Epoch [420], val_loss: 193643648.0000\n",
            "Epoch [440], val_loss: 193399616.0000\n",
            "Epoch [460], val_loss: 193207040.0000\n",
            "Epoch [480], val_loss: 192905984.0000\n",
            "Epoch [500], val_loss: 192889904.0000\n",
            "Epoch [520], val_loss: 192234800.0000\n",
            "Epoch [540], val_loss: 192043200.0000\n",
            "Epoch [560], val_loss: 191802064.0000\n",
            "Epoch [580], val_loss: 191540672.0000\n",
            "Epoch [600], val_loss: 191478336.0000\n",
            "Epoch [620], val_loss: 191015488.0000\n",
            "Epoch [640], val_loss: 190680128.0000\n",
            "Epoch [660], val_loss: 190417984.0000\n",
            "Epoch [680], val_loss: 189970832.0000\n",
            "Epoch [700], val_loss: 189731488.0000\n",
            "Epoch [720], val_loss: 189452368.0000\n",
            "Epoch [740], val_loss: 189255104.0000\n",
            "Epoch [760], val_loss: 189110688.0000\n",
            "Epoch [780], val_loss: 188902784.0000\n",
            "Epoch [800], val_loss: 188396032.0000\n",
            "Epoch [820], val_loss: 188084896.0000\n",
            "Epoch [840], val_loss: 187959632.0000\n",
            "Epoch [860], val_loss: 187497200.0000\n",
            "Epoch [880], val_loss: 187175344.0000\n",
            "Epoch [900], val_loss: 186800160.0000\n",
            "Epoch [920], val_loss: 186641792.0000\n",
            "Epoch [940], val_loss: 186512864.0000\n",
            "Epoch [960], val_loss: 186158608.0000\n",
            "Epoch [980], val_loss: 185946480.0000\n",
            "Epoch [1000], val_loss: 185746992.0000\n"
          ]
        }
      ]
    },
    {
      "cell_type": "code",
      "execution_count": 318,
      "metadata": {
        "colab": {
          "base_uri": "https://localhost:8080/"
        },
        "id": "LembvHLwhKEi",
        "outputId": "ff65b74f-2f7f-43c4-9551-58427abda283"
      },
      "outputs": [
        {
          "output_type": "stream",
          "name": "stdout",
          "text": [
            "Epoch [20], val_loss: 211096416.0000\n",
            "Epoch [40], val_loss: 200480656.0000\n",
            "Epoch [60], val_loss: 199731872.0000\n",
            "Epoch [80], val_loss: 199623904.0000\n",
            "Epoch [100], val_loss: 199580128.0000\n",
            "Epoch [120], val_loss: 199576608.0000\n",
            "Epoch [140], val_loss: 199564096.0000\n",
            "Epoch [160], val_loss: 199531104.0000\n",
            "Epoch [180], val_loss: 199515776.0000\n",
            "Epoch [200], val_loss: 199501664.0000\n",
            "Epoch [220], val_loss: 199484432.0000\n",
            "Epoch [240], val_loss: 199472288.0000\n",
            "Epoch [260], val_loss: 199431456.0000\n",
            "Epoch [280], val_loss: 199431184.0000\n",
            "Epoch [300], val_loss: 199408768.0000\n",
            "Epoch [320], val_loss: 199367248.0000\n",
            "Epoch [340], val_loss: 199366720.0000\n",
            "Epoch [360], val_loss: 199338528.0000\n",
            "Epoch [380], val_loss: 199305392.0000\n",
            "Epoch [400], val_loss: 199288704.0000\n",
            "Epoch [420], val_loss: 199281136.0000\n",
            "Epoch [440], val_loss: 199241456.0000\n",
            "Epoch [460], val_loss: 199215712.0000\n",
            "Epoch [480], val_loss: 199192464.0000\n",
            "Epoch [500], val_loss: 199173088.0000\n",
            "Epoch [520], val_loss: 199154560.0000\n",
            "Epoch [540], val_loss: 199125424.0000\n",
            "Epoch [560], val_loss: 199106816.0000\n",
            "Epoch [580], val_loss: 199081888.0000\n",
            "Epoch [600], val_loss: 199042624.0000\n",
            "Epoch [620], val_loss: 199023072.0000\n",
            "Epoch [640], val_loss: 198990784.0000\n",
            "Epoch [660], val_loss: 198961600.0000\n",
            "Epoch [680], val_loss: 198940736.0000\n",
            "Epoch [700], val_loss: 198917088.0000\n",
            "Epoch [720], val_loss: 198884448.0000\n",
            "Epoch [740], val_loss: 198856768.0000\n",
            "Epoch [760], val_loss: 198848464.0000\n",
            "Epoch [780], val_loss: 198807264.0000\n",
            "Epoch [800], val_loss: 198787504.0000\n",
            "Epoch [820], val_loss: 198752800.0000\n",
            "Epoch [840], val_loss: 198719504.0000\n",
            "Epoch [860], val_loss: 198682832.0000\n",
            "Epoch [880], val_loss: 198670288.0000\n",
            "Epoch [900], val_loss: 198640672.0000\n",
            "Epoch [920], val_loss: 198607888.0000\n",
            "Epoch [940], val_loss: 198578912.0000\n",
            "Epoch [960], val_loss: 198544496.0000\n",
            "Epoch [980], val_loss: 198522512.0000\n",
            "Epoch [1000], val_loss: 198504064.0000\n"
          ]
        }
      ],
      "source": [
        "model = InsuranceModel()\n",
        "\n",
        "epochs =1000\n",
        "lr = 1e-6\n",
        "history5 = fit(epochs, lr, model, train_loader, val_loader)"
      ]
    },
    {
      "cell_type": "code",
      "execution_count": 319,
      "metadata": {
        "colab": {
          "base_uri": "https://localhost:8080/"
        },
        "id": "BW2YaiMnhKEj",
        "outputId": "4c83557a-ef92-4cf2-d7ad-2512b62b5f4b"
      },
      "outputs": [
        {
          "output_type": "stream",
          "name": "stdout",
          "text": [
            "Epoch [20], val_loss: 196469072.0000\n",
            "Epoch [40], val_loss: 194836256.0000\n",
            "Epoch [60], val_loss: 190722880.0000\n",
            "Epoch [80], val_loss: 207326336.0000\n",
            "Epoch [100], val_loss: 185185424.0000\n",
            "Epoch [120], val_loss: 185243664.0000\n",
            "Epoch [140], val_loss: 180007744.0000\n",
            "Epoch [160], val_loss: 178262160.0000\n",
            "Epoch [180], val_loss: 176898688.0000\n",
            "Epoch [200], val_loss: 172546304.0000\n",
            "Epoch [220], val_loss: 170318240.0000\n",
            "Epoch [240], val_loss: 175479472.0000\n",
            "Epoch [260], val_loss: 168161200.0000\n",
            "Epoch [280], val_loss: 166940944.0000\n",
            "Epoch [300], val_loss: 161353120.0000\n",
            "Epoch [320], val_loss: 158781888.0000\n",
            "Epoch [340], val_loss: 158598672.0000\n",
            "Epoch [360], val_loss: 154713472.0000\n",
            "Epoch [380], val_loss: 153422592.0000\n",
            "Epoch [400], val_loss: 150535376.0000\n",
            "Epoch [420], val_loss: 152356224.0000\n",
            "Epoch [440], val_loss: 150135712.0000\n",
            "Epoch [460], val_loss: 144867200.0000\n",
            "Epoch [480], val_loss: 144507792.0000\n",
            "Epoch [500], val_loss: 144959552.0000\n",
            "Epoch [520], val_loss: 139848112.0000\n",
            "Epoch [540], val_loss: 138178960.0000\n",
            "Epoch [560], val_loss: 140070944.0000\n",
            "Epoch [580], val_loss: 140531344.0000\n",
            "Epoch [600], val_loss: 133057312.0000\n",
            "Epoch [620], val_loss: 134657808.0000\n",
            "Epoch [640], val_loss: 134872992.0000\n",
            "Epoch [660], val_loss: 130430600.0000\n",
            "Epoch [680], val_loss: 126814112.0000\n",
            "Epoch [700], val_loss: 126636912.0000\n",
            "Epoch [720], val_loss: 125339880.0000\n",
            "Epoch [740], val_loss: 124714096.0000\n",
            "Epoch [760], val_loss: 121967568.0000\n",
            "Epoch [780], val_loss: 120351192.0000\n",
            "Epoch [800], val_loss: 118649024.0000\n",
            "Epoch [820], val_loss: 117272792.0000\n",
            "Epoch [840], val_loss: 116072560.0000\n",
            "Epoch [860], val_loss: 114820016.0000\n",
            "Epoch [880], val_loss: 113842416.0000\n",
            "Epoch [900], val_loss: 113297976.0000\n",
            "Epoch [920], val_loss: 114110112.0000\n",
            "Epoch [940], val_loss: 110418032.0000\n",
            "Epoch [960], val_loss: 109418248.0000\n",
            "Epoch [980], val_loss: 110422880.0000\n",
            "Epoch [1000], val_loss: 109317616.0000\n",
            "Epoch [1020], val_loss: 106332440.0000\n",
            "Epoch [1040], val_loss: 104955968.0000\n",
            "Epoch [1060], val_loss: 103980632.0000\n",
            "Epoch [1080], val_loss: 103907960.0000\n",
            "Epoch [1100], val_loss: 102080440.0000\n",
            "Epoch [1120], val_loss: 102505024.0000\n",
            "Epoch [1140], val_loss: 100349824.0000\n",
            "Epoch [1160], val_loss: 100944576.0000\n",
            "Epoch [1180], val_loss: 98801608.0000\n",
            "Epoch [1200], val_loss: 99432880.0000\n",
            "Epoch [1220], val_loss: 96800624.0000\n",
            "Epoch [1240], val_loss: 98620704.0000\n",
            "Epoch [1260], val_loss: 95169968.0000\n",
            "Epoch [1280], val_loss: 94794848.0000\n",
            "Epoch [1300], val_loss: 95630248.0000\n",
            "Epoch [1320], val_loss: 94317520.0000\n",
            "Epoch [1340], val_loss: 92272048.0000\n",
            "Epoch [1360], val_loss: 96016584.0000\n",
            "Epoch [1380], val_loss: 91436896.0000\n",
            "Epoch [1400], val_loss: 90097488.0000\n",
            "Epoch [1420], val_loss: 89362928.0000\n",
            "Epoch [1440], val_loss: 88746456.0000\n",
            "Epoch [1460], val_loss: 91103840.0000\n",
            "Epoch [1480], val_loss: 88678816.0000\n",
            "Epoch [1500], val_loss: 87399928.0000\n",
            "Epoch [1520], val_loss: 86147184.0000\n",
            "Epoch [1540], val_loss: 85601472.0000\n",
            "Epoch [1560], val_loss: 85466224.0000\n",
            "Epoch [1580], val_loss: 84548064.0000\n",
            "Epoch [1600], val_loss: 85161928.0000\n",
            "Epoch [1620], val_loss: 88094240.0000\n",
            "Epoch [1640], val_loss: 82746136.0000\n",
            "Epoch [1660], val_loss: 86377880.0000\n",
            "Epoch [1680], val_loss: 81756416.0000\n",
            "Epoch [1700], val_loss: 81165656.0000\n",
            "Epoch [1720], val_loss: 80677120.0000\n",
            "Epoch [1740], val_loss: 82097072.0000\n",
            "Epoch [1760], val_loss: 79762760.0000\n",
            "Epoch [1780], val_loss: 80130552.0000\n",
            "Epoch [1800], val_loss: 79041752.0000\n",
            "Epoch [1820], val_loss: 79913016.0000\n",
            "Epoch [1840], val_loss: 78685528.0000\n",
            "Epoch [1860], val_loss: 77815240.0000\n",
            "Epoch [1880], val_loss: 78201048.0000\n",
            "Epoch [1900], val_loss: 77462456.0000\n",
            "Epoch [1920], val_loss: 76320416.0000\n",
            "Epoch [1940], val_loss: 76417008.0000\n",
            "Epoch [1960], val_loss: 76414384.0000\n",
            "Epoch [1980], val_loss: 75634096.0000\n",
            "Epoch [2000], val_loss: 75537488.0000\n",
            "Epoch [2020], val_loss: 74646360.0000\n",
            "Epoch [2040], val_loss: 74658520.0000\n",
            "Epoch [2060], val_loss: 73629880.0000\n",
            "Epoch [2080], val_loss: 73582656.0000\n",
            "Epoch [2100], val_loss: 73694880.0000\n",
            "Epoch [2120], val_loss: 72592128.0000\n",
            "Epoch [2140], val_loss: 72353664.0000\n",
            "Epoch [2160], val_loss: 72844832.0000\n",
            "Epoch [2180], val_loss: 71714016.0000\n",
            "Epoch [2200], val_loss: 71377536.0000\n",
            "Epoch [2220], val_loss: 71361664.0000\n",
            "Epoch [2240], val_loss: 71018832.0000\n",
            "Epoch [2260], val_loss: 72046144.0000\n",
            "Epoch [2280], val_loss: 71759856.0000\n",
            "Epoch [2300], val_loss: 70358920.0000\n",
            "Epoch [2320], val_loss: 69749376.0000\n",
            "Epoch [2340], val_loss: 70680048.0000\n",
            "Epoch [2360], val_loss: 69995224.0000\n",
            "Epoch [2380], val_loss: 68911896.0000\n",
            "Epoch [2400], val_loss: 68943576.0000\n",
            "Epoch [2420], val_loss: 68526960.0000\n",
            "Epoch [2440], val_loss: 68476344.0000\n",
            "Epoch [2460], val_loss: 68095624.0000\n",
            "Epoch [2480], val_loss: 67709392.0000\n",
            "Epoch [2500], val_loss: 67465472.0000\n",
            "Epoch [2520], val_loss: 69141464.0000\n",
            "Epoch [2540], val_loss: 67108056.0000\n",
            "Epoch [2560], val_loss: 67015264.0000\n",
            "Epoch [2580], val_loss: 66621308.0000\n",
            "Epoch [2600], val_loss: 70057632.0000\n",
            "Epoch [2620], val_loss: 66221464.0000\n",
            "Epoch [2640], val_loss: 66311656.0000\n",
            "Epoch [2660], val_loss: 66247468.0000\n",
            "Epoch [2680], val_loss: 65657248.0000\n",
            "Epoch [2700], val_loss: 65546544.0000\n",
            "Epoch [2720], val_loss: 65539616.0000\n",
            "Epoch [2740], val_loss: 65114156.0000\n",
            "Epoch [2760], val_loss: 65050156.0000\n",
            "Epoch [2780], val_loss: 64755592.0000\n",
            "Epoch [2800], val_loss: 64860240.0000\n",
            "Epoch [2820], val_loss: 64929088.0000\n",
            "Epoch [2840], val_loss: 64308680.0000\n",
            "Epoch [2860], val_loss: 65163288.0000\n",
            "Epoch [2880], val_loss: 63985296.0000\n",
            "Epoch [2900], val_loss: 63909080.0000\n",
            "Epoch [2920], val_loss: 63820580.0000\n",
            "Epoch [2940], val_loss: 63641128.0000\n",
            "Epoch [2960], val_loss: 63748328.0000\n",
            "Epoch [2980], val_loss: 65041144.0000\n",
            "Epoch [3000], val_loss: 63674132.0000\n",
            "Epoch [3020], val_loss: 63575272.0000\n",
            "Epoch [3040], val_loss: 63931720.0000\n",
            "Epoch [3060], val_loss: 62758944.0000\n",
            "Epoch [3080], val_loss: 62881544.0000\n",
            "Epoch [3100], val_loss: 62533944.0000\n",
            "Epoch [3120], val_loss: 62619080.0000\n",
            "Epoch [3140], val_loss: 62268408.0000\n",
            "Epoch [3160], val_loss: 62124976.0000\n",
            "Epoch [3180], val_loss: 62019080.0000\n",
            "Epoch [3200], val_loss: 62763292.0000\n",
            "Epoch [3220], val_loss: 62087616.0000\n",
            "Epoch [3240], val_loss: 61667144.0000\n",
            "Epoch [3260], val_loss: 62220584.0000\n",
            "Epoch [3280], val_loss: 61507972.0000\n",
            "Epoch [3300], val_loss: 61978128.0000\n",
            "Epoch [3320], val_loss: 61484780.0000\n",
            "Epoch [3340], val_loss: 61265040.0000\n",
            "Epoch [3360], val_loss: 61081156.0000\n",
            "Epoch [3380], val_loss: 60960296.0000\n",
            "Epoch [3400], val_loss: 61759904.0000\n",
            "Epoch [3420], val_loss: 60943368.0000\n",
            "Epoch [3440], val_loss: 60859044.0000\n",
            "Epoch [3460], val_loss: 60686040.0000\n",
            "Epoch [3480], val_loss: 60795680.0000\n",
            "Epoch [3500], val_loss: 60751328.0000\n",
            "Epoch [3520], val_loss: 60714148.0000\n",
            "Epoch [3540], val_loss: 60282404.0000\n",
            "Epoch [3560], val_loss: 60255128.0000\n",
            "Epoch [3580], val_loss: 61117868.0000\n",
            "Epoch [3600], val_loss: 60044856.0000\n",
            "Epoch [3620], val_loss: 59964528.0000\n",
            "Epoch [3640], val_loss: 59883800.0000\n",
            "Epoch [3660], val_loss: 60618856.0000\n",
            "Epoch [3680], val_loss: 60183368.0000\n",
            "Epoch [3700], val_loss: 59669904.0000\n",
            "Epoch [3720], val_loss: 59790176.0000\n",
            "Epoch [3740], val_loss: 59539372.0000\n",
            "Epoch [3760], val_loss: 60305788.0000\n",
            "Epoch [3780], val_loss: 59396484.0000\n",
            "Epoch [3800], val_loss: 59317152.0000\n",
            "Epoch [3820], val_loss: 60087080.0000\n",
            "Epoch [3840], val_loss: 59485544.0000\n",
            "Epoch [3860], val_loss: 59961272.0000\n",
            "Epoch [3880], val_loss: 60236184.0000\n",
            "Epoch [3900], val_loss: 59573084.0000\n",
            "Epoch [3920], val_loss: 59691060.0000\n",
            "Epoch [3940], val_loss: 59017824.0000\n",
            "Epoch [3960], val_loss: 59224524.0000\n",
            "Epoch [3980], val_loss: 59016976.0000\n",
            "Epoch [4000], val_loss: 58856920.0000\n",
            "Epoch [4020], val_loss: 59248968.0000\n",
            "Epoch [4040], val_loss: 58650816.0000\n",
            "Epoch [4060], val_loss: 58722408.0000\n",
            "Epoch [4080], val_loss: 58555560.0000\n",
            "Epoch [4100], val_loss: 58517520.0000\n",
            "Epoch [4120], val_loss: 58733648.0000\n",
            "Epoch [4140], val_loss: 58547072.0000\n",
            "Epoch [4160], val_loss: 58372444.0000\n",
            "Epoch [4180], val_loss: 59110984.0000\n",
            "Epoch [4200], val_loss: 58643748.0000\n",
            "Epoch [4220], val_loss: 58231600.0000\n",
            "Epoch [4240], val_loss: 58185580.0000\n",
            "Epoch [4260], val_loss: 58144824.0000\n",
            "Epoch [4280], val_loss: 58344152.0000\n",
            "Epoch [4300], val_loss: 58180760.0000\n",
            "Epoch [4320], val_loss: 58526456.0000\n",
            "Epoch [4340], val_loss: 58112288.0000\n",
            "Epoch [4360], val_loss: 59471080.0000\n",
            "Epoch [4380], val_loss: 58176192.0000\n",
            "Epoch [4400], val_loss: 58079104.0000\n",
            "Epoch [4420], val_loss: 58754796.0000\n",
            "Epoch [4440], val_loss: 57961112.0000\n",
            "Epoch [4460], val_loss: 58125992.0000\n",
            "Epoch [4480], val_loss: 58365128.0000\n",
            "Epoch [4500], val_loss: 57981904.0000\n",
            "Epoch [4520], val_loss: 57994720.0000\n",
            "Epoch [4540], val_loss: 57639728.0000\n",
            "Epoch [4560], val_loss: 57740512.0000\n",
            "Epoch [4580], val_loss: 57534404.0000\n",
            "Epoch [4600], val_loss: 58371988.0000\n",
            "Epoch [4620], val_loss: 58336084.0000\n",
            "Epoch [4640], val_loss: 57427096.0000\n",
            "Epoch [4660], val_loss: 58848236.0000\n",
            "Epoch [4680], val_loss: 58105620.0000\n",
            "Epoch [4700], val_loss: 58016792.0000\n",
            "Epoch [4720], val_loss: 57402368.0000\n",
            "Epoch [4740], val_loss: 57291648.0000\n",
            "Epoch [4760], val_loss: 57395780.0000\n",
            "Epoch [4780], val_loss: 57304624.0000\n",
            "Epoch [4800], val_loss: 57855432.0000\n",
            "Epoch [4820], val_loss: 57418080.0000\n",
            "Epoch [4840], val_loss: 57889904.0000\n",
            "Epoch [4860], val_loss: 57344948.0000\n",
            "Epoch [4880], val_loss: 57252464.0000\n",
            "Epoch [4900], val_loss: 57360720.0000\n",
            "Epoch [4920], val_loss: 57568104.0000\n",
            "Epoch [4940], val_loss: 57683172.0000\n",
            "Epoch [4960], val_loss: 57021660.0000\n",
            "Epoch [4980], val_loss: 57497176.0000\n",
            "Epoch [5000], val_loss: 56987844.0000\n",
            "Epoch [5020], val_loss: 57790696.0000\n",
            "Epoch [5040], val_loss: 56879324.0000\n",
            "Epoch [5060], val_loss: 57115684.0000\n",
            "Epoch [5080], val_loss: 57006496.0000\n",
            "Epoch [5100], val_loss: 57240924.0000\n",
            "Epoch [5120], val_loss: 56810520.0000\n",
            "Epoch [5140], val_loss: 57454940.0000\n",
            "Epoch [5160], val_loss: 57416084.0000\n",
            "Epoch [5180], val_loss: 56728896.0000\n",
            "Epoch [5200], val_loss: 56705116.0000\n",
            "Epoch [5220], val_loss: 57911320.0000\n",
            "Epoch [5240], val_loss: 57058068.0000\n",
            "Epoch [5260], val_loss: 56984696.0000\n",
            "Epoch [5280], val_loss: 56626760.0000\n",
            "Epoch [5300], val_loss: 56711968.0000\n",
            "Epoch [5320], val_loss: 56698312.0000\n",
            "Epoch [5340], val_loss: 56639664.0000\n",
            "Epoch [5360], val_loss: 56781872.0000\n",
            "Epoch [5380], val_loss: 59300128.0000\n",
            "Epoch [5400], val_loss: 57124596.0000\n",
            "Epoch [5420], val_loss: 58084332.0000\n",
            "Epoch [5440], val_loss: 57131280.0000\n",
            "Epoch [5460], val_loss: 57873776.0000\n",
            "Epoch [5480], val_loss: 57406484.0000\n",
            "Epoch [5500], val_loss: 56602124.0000\n",
            "Epoch [5520], val_loss: 56755284.0000\n",
            "Epoch [5540], val_loss: 56376372.0000\n",
            "Epoch [5560], val_loss: 56363208.0000\n",
            "Epoch [5580], val_loss: 56352512.0000\n",
            "Epoch [5600], val_loss: 56793712.0000\n",
            "Epoch [5620], val_loss: 56748928.0000\n",
            "Epoch [5640], val_loss: 56297208.0000\n",
            "Epoch [5660], val_loss: 57774256.0000\n",
            "Epoch [5680], val_loss: 56260832.0000\n",
            "Epoch [5700], val_loss: 56334912.0000\n",
            "Epoch [5720], val_loss: 56536388.0000\n",
            "Epoch [5740], val_loss: 56265088.0000\n",
            "Epoch [5760], val_loss: 56229504.0000\n",
            "Epoch [5780], val_loss: 56462116.0000\n",
            "Epoch [5800], val_loss: 56485188.0000\n",
            "Epoch [5820], val_loss: 56515016.0000\n",
            "Epoch [5840], val_loss: 56809692.0000\n",
            "Epoch [5860], val_loss: 56141420.0000\n",
            "Epoch [5880], val_loss: 57067908.0000\n",
            "Epoch [5900], val_loss: 56227584.0000\n",
            "Epoch [5920], val_loss: 56125276.0000\n",
            "Epoch [5940], val_loss: 56090496.0000\n",
            "Epoch [5960], val_loss: 56288592.0000\n",
            "Epoch [5980], val_loss: 56019640.0000\n",
            "Epoch [6000], val_loss: 56103024.0000\n",
            "Epoch [6020], val_loss: 56205984.0000\n",
            "Epoch [6040], val_loss: 56439492.0000\n",
            "Epoch [6060], val_loss: 57314648.0000\n",
            "Epoch [6080], val_loss: 56114296.0000\n",
            "Epoch [6100], val_loss: 56125516.0000\n",
            "Epoch [6120], val_loss: 56021232.0000\n",
            "Epoch [6140], val_loss: 55926584.0000\n",
            "Epoch [6160], val_loss: 55897640.0000\n",
            "Epoch [6180], val_loss: 58021024.0000\n",
            "Epoch [6200], val_loss: 55923984.0000\n",
            "Epoch [6220], val_loss: 55999832.0000\n",
            "Epoch [6240], val_loss: 55838740.0000\n",
            "Epoch [6260], val_loss: 55876312.0000\n",
            "Epoch [6280], val_loss: 55922048.0000\n",
            "Epoch [6300], val_loss: 57003820.0000\n",
            "Epoch [6320], val_loss: 55794488.0000\n",
            "Epoch [6340], val_loss: 56136400.0000\n",
            "Epoch [6360], val_loss: 55775424.0000\n",
            "Epoch [6380], val_loss: 55779136.0000\n",
            "Epoch [6400], val_loss: 57017908.0000\n",
            "Epoch [6420], val_loss: 55847672.0000\n",
            "Epoch [6440], val_loss: 57703992.0000\n",
            "Epoch [6460], val_loss: 55841216.0000\n",
            "Epoch [6480], val_loss: 55875160.0000\n",
            "Epoch [6500], val_loss: 55845280.0000\n",
            "Epoch [6520], val_loss: 55653020.0000\n",
            "Epoch [6540], val_loss: 55879420.0000\n",
            "Epoch [6560], val_loss: 56041224.0000\n",
            "Epoch [6580], val_loss: 55625532.0000\n",
            "Epoch [6600], val_loss: 55617412.0000\n",
            "Epoch [6620], val_loss: 55616728.0000\n",
            "Epoch [6640], val_loss: 56504548.0000\n",
            "Epoch [6660], val_loss: 55821248.0000\n",
            "Epoch [6680], val_loss: 56385896.0000\n",
            "Epoch [6700], val_loss: 56013420.0000\n",
            "Epoch [6720], val_loss: 55601132.0000\n",
            "Epoch [6740], val_loss: 55587744.0000\n",
            "Epoch [6760], val_loss: 55762736.0000\n",
            "Epoch [6780], val_loss: 56077848.0000\n",
            "Epoch [6800], val_loss: 56884876.0000\n",
            "Epoch [6820], val_loss: 55755504.0000\n",
            "Epoch [6840], val_loss: 55741896.0000\n",
            "Epoch [6860], val_loss: 55533488.0000\n",
            "Epoch [6880], val_loss: 55445756.0000\n",
            "Epoch [6900], val_loss: 55537660.0000\n",
            "Epoch [6920], val_loss: 55466768.0000\n",
            "Epoch [6940], val_loss: 55435420.0000\n",
            "Epoch [6960], val_loss: 55516264.0000\n",
            "Epoch [6980], val_loss: 55549620.0000\n",
            "Epoch [7000], val_loss: 55457292.0000\n",
            "Epoch [7020], val_loss: 55523488.0000\n",
            "Epoch [7040], val_loss: 55370780.0000\n",
            "Epoch [7060], val_loss: 57002676.0000\n",
            "Epoch [7080], val_loss: 55923536.0000\n",
            "Epoch [7100], val_loss: 55484384.0000\n",
            "Epoch [7120], val_loss: 55574908.0000\n",
            "Epoch [7140], val_loss: 55542272.0000\n",
            "Epoch [7160], val_loss: 56098452.0000\n",
            "Epoch [7180], val_loss: 55305708.0000\n",
            "Epoch [7200], val_loss: 55327536.0000\n",
            "Epoch [7220], val_loss: 55780780.0000\n",
            "Epoch [7240], val_loss: 56389812.0000\n",
            "Epoch [7260], val_loss: 55257764.0000\n",
            "Epoch [7280], val_loss: 55280716.0000\n",
            "Epoch [7300], val_loss: 55303180.0000\n",
            "Epoch [7320], val_loss: 55427544.0000\n",
            "Epoch [7340], val_loss: 55451720.0000\n",
            "Epoch [7360], val_loss: 57608624.0000\n",
            "Epoch [7380], val_loss: 55198176.0000\n",
            "Epoch [7400], val_loss: 55511640.0000\n",
            "Epoch [7420], val_loss: 56297296.0000\n",
            "Epoch [7440], val_loss: 55176772.0000\n",
            "Epoch [7460], val_loss: 56298996.0000\n",
            "Epoch [7480], val_loss: 55379944.0000\n",
            "Epoch [7500], val_loss: 55175932.0000\n",
            "Epoch [7520], val_loss: 55213636.0000\n",
            "Epoch [7540], val_loss: 56550288.0000\n",
            "Epoch [7560], val_loss: 55275056.0000\n",
            "Epoch [7580], val_loss: 55124168.0000\n",
            "Epoch [7600], val_loss: 55165952.0000\n",
            "Epoch [7620], val_loss: 56465348.0000\n",
            "Epoch [7640], val_loss: 55096848.0000\n",
            "Epoch [7660], val_loss: 55137112.0000\n",
            "Epoch [7680], val_loss: 57417960.0000\n",
            "Epoch [7700], val_loss: 55064120.0000\n",
            "Epoch [7720], val_loss: 55209828.0000\n",
            "Epoch [7740], val_loss: 55315336.0000\n",
            "Epoch [7760], val_loss: 55043784.0000\n",
            "Epoch [7780], val_loss: 55076296.0000\n",
            "Epoch [7800], val_loss: 55847232.0000\n",
            "Epoch [7820], val_loss: 55072924.0000\n",
            "Epoch [7840], val_loss: 55322284.0000\n",
            "Epoch [7860], val_loss: 56930880.0000\n",
            "Epoch [7880], val_loss: 55278616.0000\n",
            "Epoch [7900], val_loss: 55132368.0000\n",
            "Epoch [7920], val_loss: 54983056.0000\n",
            "Epoch [7940], val_loss: 55237360.0000\n",
            "Epoch [7960], val_loss: 54970060.0000\n",
            "Epoch [7980], val_loss: 55523444.0000\n",
            "Epoch [8000], val_loss: 55859836.0000\n",
            "Epoch [8020], val_loss: 55074760.0000\n",
            "Epoch [8040], val_loss: 55731688.0000\n",
            "Epoch [8060], val_loss: 55296340.0000\n",
            "Epoch [8080], val_loss: 56058928.0000\n",
            "Epoch [8100], val_loss: 55530248.0000\n",
            "Epoch [8120], val_loss: 55956360.0000\n",
            "Epoch [8140], val_loss: 55964832.0000\n",
            "Epoch [8160], val_loss: 55110844.0000\n",
            "Epoch [8180], val_loss: 54854956.0000\n",
            "Epoch [8200], val_loss: 54860720.0000\n",
            "Epoch [8220], val_loss: 55271592.0000\n",
            "Epoch [8240], val_loss: 55160352.0000\n",
            "Epoch [8260], val_loss: 54799956.0000\n",
            "Epoch [8280], val_loss: 55094620.0000\n",
            "Epoch [8300], val_loss: 55385456.0000\n",
            "Epoch [8320], val_loss: 55186096.0000\n",
            "Epoch [8340], val_loss: 55048832.0000\n",
            "Epoch [8360], val_loss: 54787864.0000\n",
            "Epoch [8380], val_loss: 54918768.0000\n",
            "Epoch [8400], val_loss: 54764832.0000\n",
            "Epoch [8420], val_loss: 54899720.0000\n",
            "Epoch [8440], val_loss: 54924884.0000\n",
            "Epoch [8460], val_loss: 54772836.0000\n",
            "Epoch [8480], val_loss: 55400304.0000\n",
            "Epoch [8500], val_loss: 55585276.0000\n",
            "Epoch [8520], val_loss: 54898992.0000\n",
            "Epoch [8540], val_loss: 54709032.0000\n",
            "Epoch [8560], val_loss: 55470784.0000\n",
            "Epoch [8580], val_loss: 55393368.0000\n",
            "Epoch [8600], val_loss: 55277308.0000\n",
            "Epoch [8620], val_loss: 54686760.0000\n",
            "Epoch [8640], val_loss: 54685292.0000\n",
            "Epoch [8660], val_loss: 54696904.0000\n",
            "Epoch [8680], val_loss: 54651576.0000\n",
            "Epoch [8700], val_loss: 54885104.0000\n",
            "Epoch [8720], val_loss: 54678284.0000\n",
            "Epoch [8740], val_loss: 54649872.0000\n",
            "Epoch [8760], val_loss: 55229380.0000\n",
            "Epoch [8780], val_loss: 54602392.0000\n",
            "Epoch [8800], val_loss: 55056036.0000\n",
            "Epoch [8820], val_loss: 54588780.0000\n",
            "Epoch [8840], val_loss: 54689144.0000\n",
            "Epoch [8860], val_loss: 54591848.0000\n",
            "Epoch [8880], val_loss: 55212928.0000\n",
            "Epoch [8900], val_loss: 55098452.0000\n",
            "Epoch [8920], val_loss: 54586484.0000\n",
            "Epoch [8940], val_loss: 54852464.0000\n",
            "Epoch [8960], val_loss: 54703516.0000\n",
            "Epoch [8980], val_loss: 54714400.0000\n",
            "Epoch [9000], val_loss: 55848456.0000\n",
            "Epoch [9020], val_loss: 54522516.0000\n",
            "Epoch [9040], val_loss: 54530024.0000\n",
            "Epoch [9060], val_loss: 55222368.0000\n",
            "Epoch [9080], val_loss: 54756956.0000\n",
            "Epoch [9100], val_loss: 55397540.0000\n",
            "Epoch [9120], val_loss: 56742008.0000\n",
            "Epoch [9140], val_loss: 54816112.0000\n",
            "Epoch [9160], val_loss: 54699864.0000\n",
            "Epoch [9180], val_loss: 54670528.0000\n",
            "Epoch [9200], val_loss: 54652216.0000\n",
            "Epoch [9220], val_loss: 54443472.0000\n",
            "Epoch [9240], val_loss: 55085136.0000\n",
            "Epoch [9260], val_loss: 54893288.0000\n",
            "Epoch [9280], val_loss: 54773248.0000\n",
            "Epoch [9300], val_loss: 54419040.0000\n",
            "Epoch [9320], val_loss: 54567216.0000\n",
            "Epoch [9340], val_loss: 54567920.0000\n",
            "Epoch [9360], val_loss: 54852324.0000\n",
            "Epoch [9380], val_loss: 54675356.0000\n",
            "Epoch [9400], val_loss: 54382872.0000\n",
            "Epoch [9420], val_loss: 55009740.0000\n",
            "Epoch [9440], val_loss: 55099032.0000\n",
            "Epoch [9460], val_loss: 54379024.0000\n",
            "Epoch [9480], val_loss: 54399240.0000\n",
            "Epoch [9500], val_loss: 54739740.0000\n",
            "Epoch [9520], val_loss: 56055972.0000\n",
            "Epoch [9540], val_loss: 54362588.0000\n",
            "Epoch [9560], val_loss: 55481364.0000\n",
            "Epoch [9580], val_loss: 54875948.0000\n",
            "Epoch [9600], val_loss: 54511304.0000\n",
            "Epoch [9620], val_loss: 54705180.0000\n",
            "Epoch [9640], val_loss: 54730292.0000\n",
            "Epoch [9660], val_loss: 54319152.0000\n",
            "Epoch [9680], val_loss: 54635964.0000\n",
            "Epoch [9700], val_loss: 54291248.0000\n",
            "Epoch [9720], val_loss: 54415516.0000\n",
            "Epoch [9740], val_loss: 55244440.0000\n",
            "Epoch [9760], val_loss: 54262236.0000\n",
            "Epoch [9780], val_loss: 54264232.0000\n",
            "Epoch [9800], val_loss: 55053368.0000\n",
            "Epoch [9820], val_loss: 54268516.0000\n",
            "Epoch [9840], val_loss: 54317328.0000\n",
            "Epoch [9860], val_loss: 54300372.0000\n",
            "Epoch [9880], val_loss: 54926980.0000\n",
            "Epoch [9900], val_loss: 54302280.0000\n",
            "Epoch [9920], val_loss: 54232464.0000\n",
            "Epoch [9940], val_loss: 54302216.0000\n",
            "Epoch [9960], val_loss: 55905944.0000\n",
            "Epoch [9980], val_loss: 54232636.0000\n",
            "Epoch [10000], val_loss: 54228080.0000\n"
          ]
        }
      ],
      "source": [
        "model = InsuranceModel()\n",
        "\n",
        "epochs = 10000\n",
        "lr = 1e-4  # this learning rate is fitted well to decrease the loss\n",
        "history3 = fit(epochs, lr, model, train_loader, val_loader)"
      ]
    },
    {
      "cell_type": "markdown",
      "metadata": {
        "id": "sj7UJdd8hKEl"
      },
      "source": [
        "**Q12: What is the final validation loss of your model?**"
      ]
    },
    {
      "cell_type": "code",
      "execution_count": 328,
      "metadata": {
        "id": "x0TCJjNZhKEm"
      },
      "outputs": [],
      "source": [
        "val_loss =54228080.0000"
      ]
    },
    {
      "cell_type": "markdown",
      "metadata": {
        "id": "9PXtJcZzhKEn"
      },
      "source": [
        "Let's log the final validation loss to Jovian and commit the notebook"
      ]
    },
    {
      "cell_type": "code",
      "execution_count": 329,
      "metadata": {
        "colab": {
          "base_uri": "https://localhost:8080/"
        },
        "id": "9Xptdh9zhKEo",
        "outputId": "8409a370-72f4-4a73-f91c-9ed7d8345a2b"
      },
      "outputs": [
        {
          "output_type": "stream",
          "name": "stdout",
          "text": [
            "[jovian] Metrics logged.\u001b[0m\n"
          ]
        }
      ],
      "source": [
        "jovian.log_metrics(val_loss=val_loss)"
      ]
    },
    {
      "cell_type": "code",
      "execution_count": 330,
      "metadata": {
        "colab": {
          "base_uri": "https://localhost:8080/"
        },
        "id": "ZS4XYkIYhKEp",
        "outputId": "e1627dcb-4f0f-42e1-9870-6bb1b215d8de"
      },
      "outputs": [
        {
          "output_type": "stream",
          "name": "stdout",
          "text": [
            "[jovian] Detected Colab notebook...\u001b[0m\n",
            "[jovian] jovian.commit() is no longer required on Google Colab. If you ran this notebook from Jovian, \n",
            "then just save this file in Colab using Ctrl+S/Cmd+S and it will be updated on Jovian. \n",
            "Also, you can also delete this cell, it's no longer necessary.\u001b[0m\n"
          ]
        }
      ],
      "source": [
        "jovian.commit(project=project_name, environment=None)"
      ]
    },
    {
      "cell_type": "markdown",
      "metadata": {
        "id": "WY_qU8tAhKEq"
      },
      "source": [
        "Now scroll back up, re-initialize the model, and try different set of values for batch size, number of epochs, learning rate etc. Commit each experiment and use the \"Compare\" and \"View Diff\" options on Jovian to compare the different results."
      ]
    },
    {
      "cell_type": "markdown",
      "metadata": {
        "id": "ykzm3HDQhKEr"
      },
      "source": [
        "## Step 5: Make predictions using the trained model\n",
        "\n",
        "**Q13: Complete the following function definition to make predictions on a single input**"
      ]
    },
    {
      "cell_type": "code",
      "execution_count": 332,
      "metadata": {
        "id": "o1tv7Ex9hKEs"
      },
      "outputs": [],
      "source": [
        "def predict_single(input, target, model):\n",
        "    inputs = input.unsqueeze(0)\n",
        "    predictions = model(inputs)\n",
        "    prediction = predictions[0].detach()\n",
        "    print(\"Input:\", input)\n",
        "    print(\"Target:\", target)\n",
        "    print(\"Prediction:\", prediction)\n",
        "\n",
        "\n",
        "\n",
        "# Assuming you have a single input tensor 'input', a target value 'target', and a model 'model'\n"
      ]
    },
    {
      "cell_type": "code",
      "execution_count": 343,
      "metadata": {
        "colab": {
          "base_uri": "https://localhost:8080/"
        },
        "id": "qeV-r7tGhKEt",
        "outputId": "14c96b32-240f-4a38-ec09-f7634e6cb95c"
      },
      "outputs": [
        {
          "output_type": "stream",
          "name": "stdout",
          "text": [
            "Input: tensor([19.0000,  0.0000, 31.0023,  3.0000,  0.0000])\n",
            "Target: tensor([22794.8320])\n",
            "Prediction: tensor([4782.3477])\n"
          ]
        }
      ],
      "source": [
        "\n",
        "input, target = val_ds[99]\n",
        "predict_single(input, target, model)"
      ]
    },
    {
      "cell_type": "code",
      "execution_count": 342,
      "metadata": {
        "colab": {
          "base_uri": "https://localhost:8080/"
        },
        "id": "PoRhwXFihKEu",
        "outputId": "f6e0e5ac-dfae-47ac-9865-e75bc439c307"
      },
      "outputs": [
        {
          "output_type": "stream",
          "name": "stdout",
          "text": [
            "Input: tensor([19.0000,  0.0000, 19.7580,  0.0000,  0.0000])\n",
            "Target: tensor([2090.6199])\n",
            "Prediction: tensor([1331.0713])\n"
          ]
        }
      ],
      "source": [
        "input, target = val_ds[8]\n",
        "predict_single(input, target, model)"
      ]
    },
    {
      "cell_type": "code",
      "execution_count": 336,
      "metadata": {
        "colab": {
          "base_uri": "https://localhost:8080/"
        },
        "id": "b8_YvzAphKEw",
        "outputId": "3478f0e0-959e-4c15-8ea0-647a60730c9d"
      },
      "outputs": [
        {
          "output_type": "stream",
          "name": "stdout",
          "text": [
            "Input: tensor([53.0000,  1.0000, 31.7460,  3.0000,  0.0000])\n",
            "Target: tensor([13616.6396])\n",
            "Prediction: tensor([13912.7480])\n"
          ]
        }
      ],
      "source": [
        "input, target = val_ds[23]\n",
        "predict_single(input, target, model)"
      ]
    },
    {
      "cell_type": "markdown",
      "metadata": {
        "id": "noCzbU17hKEx"
      },
      "source": [
        "Are you happy with your model's predictions? Try to improve them further."
      ]
    },
    {
      "cell_type": "markdown",
      "metadata": {
        "id": "QcW-c1bBhKEy"
      },
      "source": [
        "## (Optional) Step 6: Try another dataset & blog about it\n",
        "\n",
        "While this last step is optional for the submission of your assignment, we highly recommend that you do it. Try to replicate this notebook for a different linear regression or logistic regression problem. This will help solidify your understanding, and give you a chance to differentiate the generic patterns in machine learning from problem-specific details.You can use one of these starer notebooks (just change the dataset):\n",
        "\n",
        "- Linear regression (minimal): https://jovian.ai/aakashns/housing-linear-minimal\n",
        "- Logistic regression (minimal): https://jovian.ai/aakashns/mnist-logistic-minimal\n",
        "\n",
        "Here are some sources to find good datasets:\n",
        "\n",
        "- https://lionbridge.ai/datasets/10-open-datasets-for-linear-regression/\n",
        "- https://www.kaggle.com/rtatman/datasets-for-regression-analysis\n",
        "- https://archive.ics.uci.edu/ml/datasets.php?format=&task=reg&att=&area=&numAtt=&numIns=&type=&sort=nameUp&view=table\n",
        "- https://people.sc.fsu.edu/~jburkardt/datasets/regression/regression.html\n",
        "- https://archive.ics.uci.edu/ml/datasets/wine+quality\n",
        "- https://pytorch.org/docs/stable/torchvision/datasets.html\n",
        "\n",
        "We also recommend that you write a blog about your approach to the problem. Here is a suggested structure for your post (feel free to experiment with it):\n",
        "\n",
        "- Interesting title & subtitle\n",
        "- Overview of what the blog covers (which dataset, linear regression or logistic regression, intro to PyTorch)\n",
        "- Downloading & exploring the data\n",
        "- Preparing the data for training\n",
        "- Creating a model using PyTorch\n",
        "- Training the model to fit the data\n",
        "- Your thoughts on how to experiment with different hyperparmeters to reduce loss\n",
        "- Making predictions using the model\n",
        "\n",
        "As with the previous assignment, you can [embed Juptyer notebook cells & outputs from Jovian](https://medium.com/jovianml/share-and-embed-jupyter-notebooks-online-with-jovian-ml-df709a03064e) into your blog.\n",
        "\n",
        "Don't forget to share your work on the forum: https://jovian.ai/forum/t/linear-regression-and-logistic-regression-notebooks-and-blog-posts/14039"
      ]
    },
    {
      "cell_type": "code",
      "execution_count": 344,
      "metadata": {
        "colab": {
          "base_uri": "https://localhost:8080/"
        },
        "id": "q1UG8i6_hKEz",
        "outputId": "e2f81934-b06e-4d93-d05f-65ee02107c42"
      },
      "outputs": [
        {
          "output_type": "stream",
          "name": "stdout",
          "text": [
            "[jovian] Detected Colab notebook...\u001b[0m\n",
            "[jovian] jovian.commit() is no longer required on Google Colab. If you ran this notebook from Jovian, \n",
            "then just save this file in Colab using Ctrl+S/Cmd+S and it will be updated on Jovian. \n",
            "Also, you can also delete this cell, it's no longer necessary.\u001b[0m\n",
            "[jovian] Detected Colab notebook...\u001b[0m\n",
            "[jovian] jovian.commit() is no longer required on Google Colab. If you ran this notebook from Jovian, \n",
            "then just save this file in Colab using Ctrl+S/Cmd+S and it will be updated on Jovian. \n",
            "Also, you can also delete this cell, it's no longer necessary.\u001b[0m\n"
          ]
        }
      ],
      "source": [
        "jovian.commit(project=project_name, environment=None)\n",
        "jovian.commit(project=project_name, environment=None) # try again, kaggle fails sometimes"
      ]
    },
    {
      "cell_type": "code",
      "execution_count": 327,
      "metadata": {
        "id": "90l3QKAJhKE1"
      },
      "outputs": [],
      "source": []
    }
  ],
  "metadata": {
    "kernelspec": {
      "display_name": "Python 3 (ipykernel)",
      "language": "python",
      "name": "python3"
    },
    "language_info": {
      "codemirror_mode": {
        "name": "ipython",
        "version": 3
      },
      "file_extension": ".py",
      "mimetype": "text/x-python",
      "name": "python",
      "nbconvert_exporter": "python",
      "pygments_lexer": "ipython3",
      "version": "3.9.6"
    },
    "colab": {
      "provenance": [],
      "include_colab_link": true
    }
  },
  "nbformat": 4,
  "nbformat_minor": 0
}