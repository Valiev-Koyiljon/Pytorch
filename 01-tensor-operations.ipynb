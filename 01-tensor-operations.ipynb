{
 "cells": [
  {
   "cell_type": "code",
   "execution_count": 1,
   "metadata": {
    "colab": {
     "base_uri": "https://localhost:8080/"
    },
    "executionInfo": {
     "elapsed": 6865,
     "status": "ok",
     "timestamp": 1691146664103,
     "user": {
      "displayName": "Koyiljon Valiev",
      "userId": "16685952924757349051"
     },
     "user_tz": -540
    },
    "id": "j-9XW2g3Ho8_",
    "outputId": "f42f2371-6a04-4d80-e541-38a178d9e2a6"
   },
   "outputs": [
    {
     "name": "stdout",
     "output_type": "stream",
     "text": [
      "Requirement already satisfied: jovian in /usr/local/lib/python3.10/dist-packages (0.2.47)\n",
      "Requirement already satisfied: requests in /usr/local/lib/python3.10/dist-packages (from jovian) (2.27.1)\n",
      "Requirement already satisfied: uuid in /usr/local/lib/python3.10/dist-packages (from jovian) (1.30)\n",
      "Requirement already satisfied: pyyaml in /usr/local/lib/python3.10/dist-packages (from jovian) (6.0.1)\n",
      "Requirement already satisfied: click in /usr/local/lib/python3.10/dist-packages (from jovian) (8.1.6)\n",
      "Requirement already satisfied: urllib3<1.27,>=1.21.1 in /usr/local/lib/python3.10/dist-packages (from requests->jovian) (1.26.16)\n",
      "Requirement already satisfied: certifi>=2017.4.17 in /usr/local/lib/python3.10/dist-packages (from requests->jovian) (2023.7.22)\n",
      "Requirement already satisfied: charset-normalizer~=2.0.0 in /usr/local/lib/python3.10/dist-packages (from requests->jovian) (2.0.12)\n",
      "Requirement already satisfied: idna<4,>=2.5 in /usr/local/lib/python3.10/dist-packages (from requests->jovian) (3.4)\n"
     ]
    }
   ],
   "source": [
    "!pip install jovian"
   ]
  },
  {
   "cell_type": "code",
   "execution_count": 2,
   "metadata": {
    "executionInfo": {
     "elapsed": 616,
     "status": "ok",
     "timestamp": 1691146667989,
     "user": {
      "displayName": "Koyiljon Valiev",
      "userId": "16685952924757349051"
     },
     "user_tz": -540
    },
    "id": "pUQ7LTbBGc9I"
   },
   "outputs": [],
   "source": [
    "import jovian\n"
   ]
  },
  {
   "cell_type": "markdown",
   "metadata": {
    "id": "1RfwsZLQB27h"
   },
   "source": [
    "## Exploring PyTorch Tensor Operations\n",
    "\n",
    "In this notebook, we will cover the following PyTorch tensor functions:\n",
    "\n",
    "- torch.zeros()\n",
    "- torch.ones()\n",
    "- torch.arange()\n",
    "- torch.linspace()\n",
    "- torch.eye()\n",
    "\n",
    "We will illustrate their usage with code examples and provide explanations of each function\n",
    "\n",
    "Before we begin, let's install and import PyTorch"
   ]
  },
  {
   "cell_type": "code",
   "execution_count": null,
   "metadata": {
    "id": "FF-8R16gB27k"
   },
   "outputs": [],
   "source": [
    "# Uncomment and run the appropriate command for your operating system, if required\n",
    "\n",
    "# Linux / Binder\n",
    "# !pip install numpy torch==1.7.0+cpu torchvision==0.8.1+cpu torchaudio==0.7.0 -f https://download.pytorch.org/whl/torch_stable.html\n",
    "\n",
    "# Windows\n",
    "# !pip install numpy torch==1.7.0+cpu torchvision==0.8.1+cpu torchaudio==0.7.0 -f https://download.pytorch.org/whl/torch_stable.html\n",
    "\n",
    "# MacOS\n",
    "# !pip install numpy torch torchvision torchaudio"
   ]
  },
  {
   "cell_type": "code",
   "execution_count": 9,
   "metadata": {
    "executionInfo": {
     "elapsed": 3681,
     "status": "ok",
     "timestamp": 1691147096549,
     "user": {
      "displayName": "Koyiljon Valiev",
      "userId": "16685952924757349051"
     },
     "user_tz": -540
    },
    "id": "rJ0F44AsB27r"
   },
   "outputs": [],
   "source": [
    "# Import torch and other required modules\n",
    "import torch"
   ]
  },
  {
   "cell_type": "markdown",
   "metadata": {
    "id": "_g9Cl4JJB27t"
   },
   "source": [
    "## Function 1 - torch.zeros()\n",
    "\n",
    "torch.zeros() - creates a new tensor filled with zeros. It takes the shape of the desired tensor as input and returns a tensor of the same shape with all elements set to zero. This function is useful for initializing tensors before performing computations. The data type of the tensor can be specified using the dtype parameter.\n",
    "\n",
    "\n"
   ]
  },
  {
   "cell_type": "markdown",
   "metadata": {
    "id": "oGM6zfYLN4M_"
   },
   "source": [
    "##Example1"
   ]
  },
  {
   "cell_type": "code",
   "execution_count": 10,
   "metadata": {
    "colab": {
     "base_uri": "https://localhost:8080/"
    },
    "executionInfo": {
     "elapsed": 28,
     "status": "ok",
     "timestamp": 1691147096551,
     "user": {
      "displayName": "Koyiljon Valiev",
      "userId": "16685952924757349051"
     },
     "user_tz": -540
    },
    "id": "1u_I-cpeB27v",
    "outputId": "875ef061-7213-41cb-d6ee-c23691b7200f"
   },
   "outputs": [
    {
     "name": "stdout",
     "output_type": "stream",
     "text": [
      "tensor([[0., 0., 0.],\n",
      "        [0., 0., 0.]])\n"
     ]
    }
   ],
   "source": [
    "# a 2x3 tensor filled with zeros\n",
    "zeros_tensor = torch.zeros(2, 3)\n",
    "print(zeros_tensor)"
   ]
  },
  {
   "cell_type": "markdown",
   "metadata": {
    "id": "2ax1oFCDN-q5"
   },
   "source": [
    "##Example2"
   ]
  },
  {
   "cell_type": "code",
   "execution_count": 11,
   "metadata": {
    "colab": {
     "base_uri": "https://localhost:8080/"
    },
    "executionInfo": {
     "elapsed": 20,
     "status": "ok",
     "timestamp": 1691147096553,
     "user": {
      "displayName": "Koyiljon Valiev",
      "userId": "16685952924757349051"
     },
     "user_tz": -540
    },
    "id": "Dn8pWDZcN0RN",
    "outputId": "b7268738-217d-46b7-81ae-f4add0f6c31b"
   },
   "outputs": [
    {
     "name": "stdout",
     "output_type": "stream",
     "text": [
      "tensor([[[0, 0],\n",
      "         [0, 0]],\n",
      "\n",
      "        [[0, 0],\n",
      "         [0, 0]]])\n"
     ]
    }
   ],
   "source": [
    " #a 2x2x2 tensor filled with zeros of data type long (int64)\n",
    "zeros_tensor2 = torch.zeros((2, 2, 2), dtype=torch.long)\n",
    "print(zeros_tensor2)"
   ]
  },
  {
   "cell_type": "markdown",
   "metadata": {
    "id": "skWFjpqeOCHD"
   },
   "source": [
    "##Example 3"
   ]
  },
  {
   "cell_type": "code",
   "execution_count": 13,
   "metadata": {
    "colab": {
     "base_uri": "https://localhost:8080/"
    },
    "executionInfo": {
     "elapsed": 436,
     "status": "ok",
     "timestamp": 1691147127168,
     "user": {
      "displayName": "Koyiljon Valiev",
      "userId": "16685952924757349051"
     },
     "user_tz": -540
    },
    "id": "HGVVg4olOBdp",
    "outputId": "be8e3773-3fc1-4946-b988-bccbb83c3334"
   },
   "outputs": [
    {
     "name": "stdout",
     "output_type": "stream",
     "text": [
      "tensor([[0., 0., 0., 0.],\n",
      "        [0., 0., 0., 0.],\n",
      "        [0., 0., 0., 0.],\n",
      "        [0., 0., 0., 0.],\n",
      "        [0., 0., 0., 0.]])\n"
     ]
    }
   ],
   "source": [
    "#  a 5x4 tensor filled with zeros\n",
    "zeros_tensor1 = torch.zeros(5, 4)\n",
    "print(zeros_tensor1)"
   ]
  },
  {
   "cell_type": "markdown",
   "metadata": {
    "id": "As9NxLDyB270"
   },
   "source": [
    "## Function 2 - torch.ones():\n",
    "\n",
    "torch.ones() creates a new tensor filled with ones. It takes the shape of the desired tensor as input and returns a tensor of the same shape with all elements set to one. This function is useful for initializing tensors with default values."
   ]
  },
  {
   "cell_type": "markdown",
   "metadata": {
    "id": "rZASCHDdOaP2"
   },
   "source": [
    "##Example1"
   ]
  },
  {
   "cell_type": "code",
   "execution_count": 14,
   "metadata": {
    "colab": {
     "base_uri": "https://localhost:8080/"
    },
    "executionInfo": {
     "elapsed": 404,
     "status": "ok",
     "timestamp": 1691147147637,
     "user": {
      "displayName": "Koyiljon Valiev",
      "userId": "16685952924757349051"
     },
     "user_tz": -540
    },
    "id": "wF65lktfB272",
    "outputId": "66ce14bd-a781-4e3a-d22e-8f5fd1095dab"
   },
   "outputs": [
    {
     "name": "stdout",
     "output_type": "stream",
     "text": [
      "tensor([[1., 1.],\n",
      "        [1., 1.],\n",
      "        [1., 1.]])\n"
     ]
    }
   ],
   "source": [
    "# a 3x2 tensor filled with ones\n",
    "ones_tensor = torch.ones(3, 2)\n",
    "print(ones_tensor)"
   ]
  },
  {
   "cell_type": "markdown",
   "metadata": {
    "id": "aNsNStd2OcbJ"
   },
   "source": [
    "##Example2"
   ]
  },
  {
   "cell_type": "code",
   "execution_count": 15,
   "metadata": {
    "colab": {
     "base_uri": "https://localhost:8080/"
    },
    "executionInfo": {
     "elapsed": 401,
     "status": "ok",
     "timestamp": 1691147211354,
     "user": {
      "displayName": "Koyiljon Valiev",
      "userId": "16685952924757349051"
     },
     "user_tz": -540
    },
    "id": "HiJ1sFJSOggG",
    "outputId": "5fc501e1-9d3d-42ef-a2c9-54a8eafcc560"
   },
   "outputs": [
    {
     "name": "stdout",
     "output_type": "stream",
     "text": [
      "tensor([[1., 1., 1., 1., 1., 1.],\n",
      "        [1., 1., 1., 1., 1., 1.],\n",
      "        [1., 1., 1., 1., 1., 1.],\n",
      "        [1., 1., 1., 1., 1., 1.]])\n"
     ]
    }
   ],
   "source": [
    "# a 4x6 tensor filled with ones\n",
    "ones_tensor1 = torch.ones(4, 6)\n",
    "print(ones_tensor1)"
   ]
  },
  {
   "cell_type": "markdown",
   "metadata": {
    "id": "_UJUIhjBOeSO"
   },
   "source": [
    "##Example3"
   ]
  },
  {
   "cell_type": "code",
   "execution_count": 16,
   "metadata": {
    "colab": {
     "base_uri": "https://localhost:8080/"
    },
    "executionInfo": {
     "elapsed": 388,
     "status": "ok",
     "timestamp": 1691147234620,
     "user": {
      "displayName": "Koyiljon Valiev",
      "userId": "16685952924757349051"
     },
     "user_tz": -540
    },
    "id": "1h714k7NOhFC",
    "outputId": "c41bc968-f554-4765-f3ef-47cfc54c605a"
   },
   "outputs": [
    {
     "name": "stdout",
     "output_type": "stream",
     "text": [
      "tensor([[1., 1., 1.],\n",
      "        [1., 1., 1.]])\n"
     ]
    }
   ],
   "source": [
    "#  a 2x3 tensor filled with ones of data type float (float32)\n",
    "ones_tensor2 = torch.ones((2, 3), dtype=torch.float)\n",
    "print(ones_tensor2)"
   ]
  },
  {
   "cell_type": "markdown",
   "metadata": {
    "id": "XiTO0-sTB275"
   },
   "source": [
    "## Function 3 - torch.arange():\n",
    "\n",
    "torch.arange() returns a 1-D tensor with values from start to end-1 with a step size of step. It is similar to the Python built-in range() function, but it returns a tensor instead of a list. This function is useful for creating a sequence of numbers within a specific range."
   ]
  },
  {
   "cell_type": "markdown",
   "metadata": {
    "id": "lPhbafiUOy5u"
   },
   "source": [
    "##Example1"
   ]
  },
  {
   "cell_type": "code",
   "execution_count": 4,
   "metadata": {
    "colab": {
     "base_uri": "https://localhost:8080/"
    },
    "executionInfo": {
     "elapsed": 12,
     "status": "ok",
     "timestamp": 1691144783760,
     "user": {
      "displayName": "Koyiljon Valiev",
      "userId": "16685952924757349051"
     },
     "user_tz": -540
    },
    "id": "8exVigYbB277",
    "outputId": "d647fbdf-a918-4ece-a237-6deda8509b7d"
   },
   "outputs": [
    {
     "name": "stdout",
     "output_type": "stream",
     "text": [
      "tensor([0, 1, 2, 3, 4, 5, 6, 7, 8, 9])\n"
     ]
    }
   ],
   "source": [
    "# a tensor with values from 0 to 9\n",
    "range_tensor = torch.arange(10)\n",
    "print(range_tensor)"
   ]
  },
  {
   "cell_type": "markdown",
   "metadata": {
    "id": "mbpuc5_iO0-m"
   },
   "source": [
    "##Example2"
   ]
  },
  {
   "cell_type": "code",
   "execution_count": 17,
   "metadata": {
    "colab": {
     "base_uri": "https://localhost:8080/"
    },
    "executionInfo": {
     "elapsed": 394,
     "status": "ok",
     "timestamp": 1691147299062,
     "user": {
      "displayName": "Koyiljon Valiev",
      "userId": "16685952924757349051"
     },
     "user_tz": -540
    },
    "id": "nXKc6N6yO4uE",
    "outputId": "7a5bc652-b1f2-464b-ab4c-24fd6cad3a31"
   },
   "outputs": [
    {
     "name": "stdout",
     "output_type": "stream",
     "text": [
      "tensor([ 5,  6,  7,  8,  9, 10, 11, 12, 13, 14])\n"
     ]
    }
   ],
   "source": [
    "# a tensor with values from 5 to 15 (exclusive)\n",
    "range_tensor1 = torch.arange(5, 15)\n",
    "print(range_tensor1)"
   ]
  },
  {
   "cell_type": "markdown",
   "metadata": {
    "id": "CzjOadGtO2wR"
   },
   "source": [
    "##Example3"
   ]
  },
  {
   "cell_type": "code",
   "execution_count": 18,
   "metadata": {
    "colab": {
     "base_uri": "https://localhost:8080/"
    },
    "executionInfo": {
     "elapsed": 517,
     "status": "ok",
     "timestamp": 1691147320516,
     "user": {
      "displayName": "Koyiljon Valiev",
      "userId": "16685952924757349051"
     },
     "user_tz": -540
    },
    "id": "ImlXYT0YO5aU",
    "outputId": "c058f31b-667c-4da7-a543-7bae72380264"
   },
   "outputs": [
    {
     "name": "stdout",
     "output_type": "stream",
     "text": [
      "tensor([-5, -3, -1,  1,  3])\n"
     ]
    }
   ],
   "source": [
    "#  a tensor with values from -5 to 5 (exclusive) with a step of 2\n",
    "range_tensor2 = torch.arange(-5, 5, 2)\n",
    "print(range_tensor2)"
   ]
  },
  {
   "cell_type": "markdown",
   "metadata": {
    "id": "rRmHaL0hB279"
   },
   "source": [
    "## Function 4 - torch.linspace():\n",
    "\n",
    "torch.linspace() returns a 1-D tensor with steps equally spaced values between start and end (inclusive). Unlike torch.arange(), you specify the number of steps rather than the step size. This function is useful when you need a fixed number of values within a range."
   ]
  },
  {
   "cell_type": "markdown",
   "metadata": {
    "id": "WiW3lzijPE1Y"
   },
   "source": [
    "##Example1"
   ]
  },
  {
   "cell_type": "code",
   "execution_count": 5,
   "metadata": {
    "colab": {
     "base_uri": "https://localhost:8080/"
    },
    "executionInfo": {
     "elapsed": 414,
     "status": "ok",
     "timestamp": 1691144970530,
     "user": {
      "displayName": "Koyiljon Valiev",
      "userId": "16685952924757349051"
     },
     "user_tz": -540
    },
    "id": "f7aOLlKlGER3",
    "outputId": "600c458e-b2ed-4fb1-8a05-a9fb7a3513a7"
   },
   "outputs": [
    {
     "name": "stdout",
     "output_type": "stream",
     "text": [
      "tensor([0.0000, 0.2500, 0.5000, 0.7500, 1.0000])\n"
     ]
    }
   ],
   "source": [
    "# a tensor with 5 equally spaced values between 0 and 1\n",
    "linspace_tensor = torch.linspace(0, 1, 5)\n",
    "print(linspace_tensor)"
   ]
  },
  {
   "cell_type": "markdown",
   "metadata": {
    "id": "4Obh9tUiPHas"
   },
   "source": [
    "##Example2"
   ]
  },
  {
   "cell_type": "code",
   "execution_count": 19,
   "metadata": {
    "colab": {
     "base_uri": "https://localhost:8080/"
    },
    "executionInfo": {
     "elapsed": 420,
     "status": "ok",
     "timestamp": 1691147373501,
     "user": {
      "displayName": "Koyiljon Valiev",
      "userId": "16685952924757349051"
     },
     "user_tz": -540
    },
    "id": "hwyVNsqFPLjS",
    "outputId": "4955dc5a-4adc-403c-fa0d-a83c4a9455d6"
   },
   "outputs": [
    {
     "name": "stdout",
     "output_type": "stream",
     "text": [
      "tensor([0.0000, 0.4000, 0.8000, 1.2000, 1.6000, 2.0000])\n"
     ]
    }
   ],
   "source": [
    "# a tensor with 6 equally spaced values between 0 and 2 (inclusive)\n",
    "linspace_tensor1 = torch.linspace(0, 2, 6)\n",
    "print(linspace_tensor1)"
   ]
  },
  {
   "cell_type": "markdown",
   "metadata": {
    "id": "cxvajBb_PJfh"
   },
   "source": [
    "##Example3"
   ]
  },
  {
   "cell_type": "code",
   "execution_count": 20,
   "metadata": {
    "colab": {
     "base_uri": "https://localhost:8080/"
    },
    "executionInfo": {
     "elapsed": 370,
     "status": "ok",
     "timestamp": 1691147389964,
     "user": {
      "displayName": "Koyiljon Valiev",
      "userId": "16685952924757349051"
     },
     "user_tz": -540
    },
    "id": "5pQLu75uPLr7",
    "outputId": "160acc3a-82e3-4852-a1ba-11325c01b81c"
   },
   "outputs": [
    {
     "name": "stdout",
     "output_type": "stream",
     "text": [
      "tensor([-1.0000, -0.7500, -0.5000, -0.2500,  0.0000,  0.2500,  0.5000,  0.7500,\n",
      "         1.0000])\n"
     ]
    }
   ],
   "source": [
    "# a tensor with 9 equally spaced values between -1 and 1 (inclusive)\n",
    "linspace_tensor2 = torch.linspace(-1, 1, 9)\n",
    "print(linspace_tensor2)"
   ]
  },
  {
   "cell_type": "markdown",
   "metadata": {
    "id": "Ga6QixeCGOy5"
   },
   "source": [
    "## Function 5 - torch.eye():\n",
    "\n",
    "torch.eye() creates an identity tensor of size n x n, where the diagonal elements are ones, and all other elements are zeros. This function is particularly useful for creating identity matrices which are often used in linear algebra operations."
   ]
  },
  {
   "cell_type": "markdown",
   "metadata": {
    "id": "O3Q6pBv4PV2o"
   },
   "source": [
    "##Example1"
   ]
  },
  {
   "cell_type": "code",
   "execution_count": 6,
   "metadata": {
    "colab": {
     "base_uri": "https://localhost:8080/"
    },
    "executionInfo": {
     "elapsed": 559,
     "status": "ok",
     "timestamp": 1691145035623,
     "user": {
      "displayName": "Koyiljon Valiev",
      "userId": "16685952924757349051"
     },
     "user_tz": -540
    },
    "id": "KKhb_3fyGNlD",
    "outputId": "a5809e33-8a17-419e-8801-0f59ac67b75e"
   },
   "outputs": [
    {
     "name": "stdout",
     "output_type": "stream",
     "text": [
      "tensor([[1., 0., 0.],\n",
      "        [0., 1., 0.],\n",
      "        [0., 0., 1.]])\n"
     ]
    }
   ],
   "source": [
    "# a 3x3 identity matrix\n",
    "identity_tensor = torch.eye(3)\n",
    "print(identity_tensor)"
   ]
  },
  {
   "cell_type": "markdown",
   "metadata": {
    "id": "I1XVP05_PZrs"
   },
   "source": [
    "##Example2"
   ]
  },
  {
   "cell_type": "code",
   "execution_count": 21,
   "metadata": {
    "colab": {
     "base_uri": "https://localhost:8080/"
    },
    "executionInfo": {
     "elapsed": 395,
     "status": "ok",
     "timestamp": 1691147447580,
     "user": {
      "displayName": "Koyiljon Valiev",
      "userId": "16685952924757349051"
     },
     "user_tz": -540
    },
    "id": "716l8ZxbPd22",
    "outputId": "9a4ef337-e23f-49b4-e603-f9ae8bdc8e76"
   },
   "outputs": [
    {
     "name": "stdout",
     "output_type": "stream",
     "text": [
      "tensor([[1., 0., 0., 0., 0.],\n",
      "        [0., 1., 0., 0., 0.],\n",
      "        [0., 0., 1., 0., 0.],\n",
      "        [0., 0., 0., 1., 0.],\n",
      "        [0., 0., 0., 0., 1.]])\n"
     ]
    }
   ],
   "source": [
    "# a 5x5 identity matrix\n",
    "identity_tensor1 = torch.eye(5)\n",
    "print(identity_tensor1)"
   ]
  },
  {
   "cell_type": "markdown",
   "metadata": {
    "id": "8j3zegolPb2z"
   },
   "source": [
    "##Example3"
   ]
  },
  {
   "cell_type": "code",
   "execution_count": 22,
   "metadata": {
    "colab": {
     "base_uri": "https://localhost:8080/"
    },
    "executionInfo": {
     "elapsed": 846,
     "status": "ok",
     "timestamp": 1691147467477,
     "user": {
      "displayName": "Koyiljon Valiev",
      "userId": "16685952924757349051"
     },
     "user_tz": -540
    },
    "id": "joKLbJ1tPepq",
    "outputId": "e31ed2df-72bc-4eee-ffc7-7ab611027277"
   },
   "outputs": [
    {
     "name": "stdout",
     "output_type": "stream",
     "text": [
      "tensor([[1, 0],\n",
      "        [0, 1]])\n"
     ]
    }
   ],
   "source": [
    "# a 2x2 identity matrix of data type integer (int64)\n",
    "identity_tensor2 = torch.eye(2, dtype=torch.int64)\n",
    "print(identity_tensor2)"
   ]
  },
  {
   "cell_type": "markdown",
   "metadata": {
    "id": "z_j8z-e6B27-"
   },
   "source": [
    "Closing comments about when to use this function"
   ]
  },
  {
   "cell_type": "markdown",
   "metadata": {
    "id": "aFNHuoFfB27_"
   },
   "source": [
    "Let's save our work using Jovian before continuing."
   ]
  },
  {
   "cell_type": "code",
   "execution_count": 4,
   "metadata": {
    "executionInfo": {
     "elapsed": 6624,
     "status": "ok",
     "timestamp": 1691146838381,
     "user": {
      "displayName": "Koyiljon Valiev",
      "userId": "16685952924757349051"
     },
     "user_tz": -540
    },
    "id": "mYcayZrZB28A"
   },
   "outputs": [],
   "source": [
    "!pip install jovian --upgrade --quiet"
   ]
  },
  {
   "cell_type": "code",
   "execution_count": 5,
   "metadata": {
    "executionInfo": {
     "elapsed": 426,
     "status": "ok",
     "timestamp": 1691146845172,
     "user": {
      "displayName": "Koyiljon Valiev",
      "userId": "16685952924757349051"
     },
     "user_tz": -540
    },
    "id": "v9rGz676B28B"
   },
   "outputs": [],
   "source": [
    "import jovian"
   ]
  },
  {
   "cell_type": "code",
   "execution_count": 23,
   "metadata": {
    "colab": {
     "base_uri": "https://localhost:8080/"
    },
    "executionInfo": {
     "elapsed": 426,
     "status": "ok",
     "timestamp": 1691147474855,
     "user": {
      "displayName": "Koyiljon Valiev",
      "userId": "16685952924757349051"
     },
     "user_tz": -540
    },
    "id": "vwyxerKlB28D",
    "outputId": "9fef9d02-553c-4652-e1a7-ed4083820c1a"
   },
   "outputs": [
    {
     "name": "stdout",
     "output_type": "stream",
     "text": [
      "[jovian] Detected Colab notebook...\u001b[0m\n",
      "[jovian] jovian.commit() is no longer required on Google Colab. If you ran this notebook from Jovian, \n",
      "then just save this file in Colab using Ctrl+S/Cmd+S and it will be updated on Jovian. \n",
      "Also, you can also delete this cell, it's no longer necessary.\u001b[0m\n"
     ]
    }
   ],
   "source": [
    "jovian.commit(project='01-tensor-operations')"
   ]
  },
  {
   "cell_type": "markdown",
   "metadata": {
    "id": "LSnv0Y_9B282"
   },
   "source": [
    "## Conclusion\n",
    "\n",
    "In this notebook, we explored five important PyTorch tensor functions: torch.zeros(), torch.ones(), torch.arange(), torch.linspace(), and torch.eye(). Here's a brief summary of what we covered:\n",
    "\n",
    "torch.zeros(): Used for creating tensors filled with zeros. It takes the shape of the desired tensor as input and returns a tensor of the same shape with all elements set to zero.\n",
    "\n",
    "torch.ones(): Used for creating tensors filled with ones. It takes the shape of the desired tensor as input and returns a tensor of the same shape with all elements set to one.\n",
    "\n",
    "torch.arange(): Returns a 1-D tensor with values from start to end-1 with a specified step size. Similar to the Python built-in range(), but returns a tensor instead of a list.\n",
    "\n",
    "torch.linspace(): Returns a 1-D tensor with steps equally spaced values between start and end (inclusive). Unlike torch.arange(), you specify the number of steps rather than the step size.\n",
    "\n",
    "torch.eye(): Creates an identity tensor of size n x n, where the diagonal elements are ones, and all other elements are zeros. Useful for creating identity matrices used in linear algebra operations."
   ]
  },
  {
   "cell_type": "markdown",
   "metadata": {
    "id": "hU7214JTB284"
   },
   "source": [
    "## Reference Links\n",
    "Provide links to your references and other interesting articles about tensors\n",
    "* Official documentation for tensor operations: https://pytorch.org/docs/stable/torch.html\n",
    "* ..."
   ]
  },
  {
   "cell_type": "code",
   "execution_count": 26,
   "metadata": {
    "colab": {
     "base_uri": "https://localhost:8080/"
    },
    "executionInfo": {
     "elapsed": 450,
     "status": "ok",
     "timestamp": 1691147578068,
     "user": {
      "displayName": "Koyiljon Valiev",
      "userId": "16685952924757349051"
     },
     "user_tz": -540
    },
    "id": "6nytCB9VB284",
    "outputId": "0ac21286-0994-4748-d56e-2bb3698c7897"
   },
   "outputs": [
    {
     "name": "stdout",
     "output_type": "stream",
     "text": [
      "[jovian] Detected Colab notebook...\u001b[0m\n",
      "[jovian] jovian.commit() is no longer required on Google Colab. If you ran this notebook from Jovian, \n",
      "then just save this file in Colab using Ctrl+S/Cmd+S and it will be updated on Jovian. \n",
      "Also, you can also delete this cell, it's no longer necessary.\u001b[0m\n"
     ]
    }
   ],
   "source": [
    "jovian.commit(project='01-tensor-operations')"
   ]
  },
  {
   "cell_type": "code",
   "execution_count": null,
   "metadata": {
    "id": "O6WApf0LB286"
   },
   "outputs": [],
   "source": []
  }
 ],
 "metadata": {
  "colab": {
   "provenance": []
  },
  "language_info": {
   "codemirror_mode": {
    "name": "ipython",
    "version": 3
   },
   "file_extension": ".py",
   "mimetype": "text/x-python",
   "name": "python",
   "nbconvert_exporter": "python",
   "pygments_lexer": "ipython3",
   "version": "3.8.5"
  }
 },
 "nbformat": 4,
 "nbformat_minor": 0
}